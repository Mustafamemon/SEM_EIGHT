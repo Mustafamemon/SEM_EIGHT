{
 "cells": [
  {
   "cell_type": "markdown",
   "metadata": {},
   "source": [
    "### IMPORT "
   ]
  },
  {
   "cell_type": "code",
   "execution_count": 1,
   "metadata": {},
   "outputs": [],
   "source": [
    "import pandas as pd\n",
    "import os , math"
   ]
  },
  {
   "cell_type": "markdown",
   "metadata": {},
   "source": [
    "### DATASET PATH"
   ]
  },
  {
   "cell_type": "code",
   "execution_count": 2,
   "metadata": {},
   "outputs": [],
   "source": [
    "DIR_PATH = os.path.abspath(\"\")\n",
    "TRAIN_DATATSET = os.path.join(DIR_PATH,\"train.txt\")\n",
    "TEST_DATATSET = os.path.join(DIR_PATH,\"test.txt\")"
   ]
  },
  {
   "cell_type": "markdown",
   "metadata": {},
   "source": [
    "### READ TEST DATASET"
   ]
  },
  {
   "cell_type": "code",
   "execution_count": 3,
   "metadata": {},
   "outputs": [
    {
     "data": {
      "text/html": [
       "<div>\n",
       "<style scoped>\n",
       "    .dataframe tbody tr th:only-of-type {\n",
       "        vertical-align: middle;\n",
       "    }\n",
       "\n",
       "    .dataframe tbody tr th {\n",
       "        vertical-align: top;\n",
       "    }\n",
       "\n",
       "    .dataframe thead th {\n",
       "        text-align: right;\n",
       "    }\n",
       "</style>\n",
       "<table border=\"1\" class=\"dataframe\">\n",
       "  <thead>\n",
       "    <tr style=\"text-align: right;\">\n",
       "      <th></th>\n",
       "      <th>Refund</th>\n",
       "      <th>Marital Status</th>\n",
       "      <th>Taxable Income</th>\n",
       "      <th>Evade</th>\n",
       "    </tr>\n",
       "    <tr>\n",
       "      <th>Tid</th>\n",
       "      <th></th>\n",
       "      <th></th>\n",
       "      <th></th>\n",
       "      <th></th>\n",
       "    </tr>\n",
       "  </thead>\n",
       "  <tbody>\n",
       "    <tr>\n",
       "      <th>1</th>\n",
       "      <td>Yes</td>\n",
       "      <td>Single</td>\n",
       "      <td>125</td>\n",
       "      <td>No</td>\n",
       "    </tr>\n",
       "    <tr>\n",
       "      <th>2</th>\n",
       "      <td>No</td>\n",
       "      <td>Married</td>\n",
       "      <td>100</td>\n",
       "      <td>No</td>\n",
       "    </tr>\n",
       "    <tr>\n",
       "      <th>3</th>\n",
       "      <td>No</td>\n",
       "      <td>Single</td>\n",
       "      <td>70</td>\n",
       "      <td>No</td>\n",
       "    </tr>\n",
       "    <tr>\n",
       "      <th>4</th>\n",
       "      <td>Yes</td>\n",
       "      <td>Married</td>\n",
       "      <td>120</td>\n",
       "      <td>No</td>\n",
       "    </tr>\n",
       "    <tr>\n",
       "      <th>5</th>\n",
       "      <td>No</td>\n",
       "      <td>Divorced</td>\n",
       "      <td>95</td>\n",
       "      <td>Yes</td>\n",
       "    </tr>\n",
       "  </tbody>\n",
       "</table>\n",
       "</div>"
      ],
      "text/plain": [
       "    Refund Marital Status  Taxable Income Evade\n",
       "Tid                                            \n",
       "1      Yes         Single             125    No\n",
       "2       No        Married             100    No\n",
       "3       No         Single              70    No\n",
       "4      Yes        Married             120    No\n",
       "5       No       Divorced              95   Yes"
      ]
     },
     "execution_count": 3,
     "metadata": {},
     "output_type": "execute_result"
    }
   ],
   "source": [
    "df = pd.read_csv(TRAIN_DATATSET,index_col=0,skipinitialspace=True)\n",
    "df.head()"
   ]
  },
  {
   "cell_type": "markdown",
   "metadata": {},
   "source": [
    "### CALCULATING PRIOR PROB OF LABEL"
   ]
  },
  {
   "cell_type": "code",
   "execution_count": 5,
   "metadata": {},
   "outputs": [],
   "source": [
    "def priorProb(df):\n",
    "    last_col = df.iloc[:,-1]\n",
    "    unique_count = last_col.value_counts().apply((lambda x:x/last_col.count()))\n",
    "    unique_count = unique_count.to_dict()\n",
    "    return unique_count\n",
    "# print(priorProb(df))"
   ]
  },
  {
   "cell_type": "markdown",
   "metadata": {},
   "source": [
    "### CALCULATING DISCREATE PROB FOR LABEL REFUND & STATUS"
   ]
  },
  {
   "cell_type": "code",
   "execution_count": 6,
   "metadata": {
    "scrolled": true
   },
   "outputs": [],
   "source": [
    "def discreteProb(df,column,key):\n",
    "    label_count = df[['Evade']].value_counts().to_dict()\n",
    "    df = df.groupby(['Evade',column]).size().to_dict()\n",
    "    dis_prob = {}\n",
    "    for i in label_count:\n",
    "        value = label_count[i]\n",
    "        i = list(i)\n",
    "        i.append(key)\n",
    "        i = tuple(i)\n",
    "        if i in df:\n",
    "            dis_prob[i[0]] = df[i]/value\n",
    "        else:\n",
    "            dis_prob[i[0]] = 0\n",
    "    return dis_prob\n",
    "# print(discreteProb(df,'Marital Status','Divorced'))"
   ]
  },
  {
   "cell_type": "markdown",
   "metadata": {},
   "source": [
    "### CALCULATING CONTINOUS PROB OF LABEL INCOME "
   ]
  },
  {
   "cell_type": "code",
   "execution_count": 7,
   "metadata": {},
   "outputs": [],
   "source": [
    "def continuousProb(mean,variance,value):\n",
    "    cont_prob = {}        \n",
    "    for label in mean:\n",
    "        X = ((math.exp(-((value-mean[label])**2)/(2*variance[label])))/(math.sqrt(2*math.pi*variance[label])))\n",
    "        cont_prob[label] = X\n",
    "    return cont_prob"
   ]
  },
  {
   "cell_type": "markdown",
   "metadata": {},
   "source": [
    "### CALCULATING MEAN & VARIANCE OF LABEL INCOME"
   ]
  },
  {
   "cell_type": "code",
   "execution_count": 8,
   "metadata": {},
   "outputs": [],
   "source": [
    "def meanAndvariance(df):\n",
    "    df = df.groupby(['Evade'])\n",
    "    m = df.mean().to_dict()['Taxable Income']\n",
    "    v = df.var().to_dict()['Taxable Income']\n",
    "    return (m,v)\n",
    "# print(meanAndvariance(df))"
   ]
  },
  {
   "cell_type": "markdown",
   "metadata": {},
   "source": [
    "### OUTPUT FOR TWO TEST DATA"
   ]
  },
  {
   "cell_type": "code",
   "execution_count": 9,
   "metadata": {},
   "outputs": [
    {
     "name": "stdout",
     "output_type": "stream",
     "text": [
      "0.0002930849567106453\n",
      "0.0\n",
      "0.001098276902926835\n",
      "0.0\n",
      "ANSWER : \n",
      "{'Refund': 'Yes', 'Status': 'Divorced', 'Income': 90, 'Evade': 'No'}\n",
      "{'Refund': 'No', 'Status': 'Married', 'Income': 60, 'Evade': 'No'}\n"
     ]
    }
   ],
   "source": [
    "X1 = {'Refund' : 'Yes', 'Status' : 'Divorced', 'Income' : 90, 'Evade' : None}\n",
    "X2 = {'Refund' : 'No' , 'Status' : 'Married' , 'Income' : 60, 'Evade' : None}\n",
    "\n",
    "mean , variance = meanAndvariance(df)\n",
    "\n",
    "# X1\n",
    "prior_prob = priorProb(df)\n",
    "refund = discreteProb(df,'Refund',X1['Refund'])\n",
    "status = discreteProb(df,'Marital Status',X1['Status'])\n",
    "income = continuousProb(mean,variance,X1['Income'])\n",
    "prob   = 0\n",
    "ouput  = ''\n",
    "for label in prior_prob:\n",
    "    x = refund[label]*status[label]*income[label]*prior_prob[label]\n",
    "    if(prob < x):\n",
    "        output = label\n",
    "        prob = x\n",
    "\n",
    "X1['Evade'] = output\n",
    "\n",
    "# X2\n",
    "prior_prob = priorProb(df)\n",
    "refund = discreteProb(df,'Refund',X2['Refund'])\n",
    "status = discreteProb(df,'Marital Status',X2['Status'])\n",
    "income = continuousProb(mean,variance,X2['Income'])\n",
    "\n",
    "prob   = 0\n",
    "ouput  = ''\n",
    "for label in prior_prob:\n",
    "    x = refund[label]*status[label]*income[label]*prior_prob[label]\n",
    "    if(prob < x):\n",
    "        output = label\n",
    "        prob = x\n",
    "X2['Evade'] = output\n",
    "\n",
    "print('ANSWER : ')\n",
    "print(X1)\n",
    "print(X2)"
   ]
  }
 ],
 "metadata": {
  "kernelspec": {
   "display_name": "Python 3",
   "language": "python",
   "name": "python3"
  },
  "language_info": {
   "codemirror_mode": {
    "name": "ipython",
    "version": 3
   },
   "file_extension": ".py",
   "mimetype": "text/x-python",
   "name": "python",
   "nbconvert_exporter": "python",
   "pygments_lexer": "ipython3",
   "version": "3.7.4"
  }
 },
 "nbformat": 4,
 "nbformat_minor": 4
}
