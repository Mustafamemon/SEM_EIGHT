{
 "cells": [
  {
   "cell_type": "code",
   "execution_count": 2,
   "metadata": {},
   "outputs": [],
   "source": [
    "import pandas as pd\n",
    "import numpy as np"
   ]
  },
  {
   "cell_type": "code",
   "execution_count": 3,
   "metadata": {},
   "outputs": [],
   "source": [
    "data1 = {'cities' : ['lahore','karachi',], 'provinces' : ['punjab','sindh']}\n",
    "data2 = {\"cities\": [\"islamabad\",\"karachi\",\"peshawar\",\"quetta\"],\"provinces\": [\"capital\",\"sindh\", \"KPK\",\"Balochistan\"]}"
   ]
  },
  {
   "cell_type": "code",
   "execution_count": 4,
   "metadata": {},
   "outputs": [
    {
     "name": "stdout",
     "output_type": "stream",
     "text": [
      "    cities provinces\n",
      "0   lahore    punjab\n",
      "1  karachi     sindh \n",
      "\n",
      "\n",
      "      cities    provinces\n",
      "0  islamabad      capital\n",
      "1    karachi        sindh\n",
      "2   peshawar          KPK\n",
      "3     quetta  Balochistan\n"
     ]
    }
   ],
   "source": [
    "frame1 = pd.DataFrame(data1)\n",
    "frame2 = pd.DataFrame(data2)\n",
    "\n",
    "print(frame1.head(),'\\n\\n')\n",
    "print(frame2.head())"
   ]
  },
  {
   "cell_type": "code",
   "execution_count": 5,
   "metadata": {},
   "outputs": [
    {
     "name": "stdout",
     "output_type": "stream",
     "text": [
      "      cities    provinces\n",
      "0     quetta  Balochistan\n",
      "1   peshawar          KPK\n",
      "2  islamabad      capital\n",
      "3     lahore       punjab\n",
      "4    karachi        sindh\n"
     ]
    }
   ],
   "source": [
    "frame3 = pd.concat([frame1,frame2])\n",
    "frame3.drop_duplicates(inplace=True)\n",
    "frame3.sort_values(by='provinces',inplace=True)\n",
    "frame3.reset_index(inplace=True,drop=True)\n",
    "print(frame3)"
   ]
  },
  {
   "cell_type": "code",
   "execution_count": 20,
   "metadata": {},
   "outputs": [
    {
     "name": "stdout",
     "output_type": "stream",
     "text": [
      "    Name  Field      Marks\n",
      "0    ---      0  68.333333\n",
      "1    Ali      1  60.000000\n",
      "2  Ahmed      1  68.333333\n",
      "3   Nida      0  70.000000\n",
      "4    ---      0  75.000000\n"
     ]
    }
   ],
   "source": [
    "data3 = {\n",
    "    \"Name\":[ np.nan ,'Ali','Ahmed','Nida', np.nan ],\n",
    "    \"Field\":['C','E','E','C','C'],\n",
    "    \"Age\":[np.nan, np.nan , np.nan , np.nan , np.nan ],\n",
    "    \"Marks\":[-90,60,-10,70,75]\n",
    "}\n",
    "frame4 = pd.DataFrame(data3)\n",
    "del frame4['Age']\n",
    "frame4.replace(np.nan, '---',inplace=True)\n",
    "frame4.replace({\"C\": 0 , \"E\":1},inplace=True)\n",
    "frame4['Marks'] = frame4['Marks'].where(frame4['Marks'] >=0) \n",
    "frame4.fillna(frame4['Marks'].mean(),inplace=True)\n",
    "print(frame4)\n"
   ]
  }
 ],
 "metadata": {
  "kernelspec": {
   "display_name": "Python 3",
   "language": "python",
   "name": "python3"
  },
  "language_info": {
   "codemirror_mode": {
    "name": "ipython",
    "version": 3
   },
   "file_extension": ".py",
   "mimetype": "text/x-python",
   "name": "python",
   "nbconvert_exporter": "python",
   "pygments_lexer": "ipython3",
   "version": "3.7.4"
  }
 },
 "nbformat": 4,
 "nbformat_minor": 2
}
