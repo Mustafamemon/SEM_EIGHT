{
 "cells": [
  {
   "cell_type": "markdown",
   "metadata": {},
   "source": [
    "## IMPORTS"
   ]
  },
  {
   "cell_type": "code",
   "execution_count": 1,
   "metadata": {},
   "outputs": [],
   "source": [
    "import os\n",
    "import pandas as pd\n",
    "import numpy as np"
   ]
  },
  {
   "cell_type": "code",
   "execution_count": 2,
   "metadata": {},
   "outputs": [
    {
     "name": "stdout",
     "output_type": "stream",
     "text": [
      "E:\\Fast\\SEM 8\\Data Sci\\Labs\\Lab_2\\data\\data1.csv\n"
     ]
    }
   ],
   "source": [
    "DIR_PATH = os.path.abspath(\"\")\n",
    "\n",
    "DATASET_PATH = os.path.join(DIR_PATH, \"data\")\n",
    "\n",
    "DATASET_DATA_1 = os.path.join(DATASET_PATH, \"data1.csv\")\n",
    "DATASET_DATA_2 = os.path.join(DATASET_PATH, \"data2.csv\")\n",
    "DATASET_DATA_3 = os.path.join(DATASET_PATH, \"data3.csv\")\n",
    "DATASET_DATA_4 = os.path.join(DATASET_PATH, \"data.json\")\n",
    "NEW_DATASET    = os.path.join(DATASET_PATH, \"new_data.csv\")\n",
    "\n",
    "print(DATASET_DATA_1)"
   ]
  },
  {
   "cell_type": "markdown",
   "metadata": {},
   "source": [
    "### Q1a"
   ]
  },
  {
   "cell_type": "code",
   "execution_count": 3,
   "metadata": {},
   "outputs": [
    {
     "name": "stdout",
     "output_type": "stream",
     "text": [
      "Data Frame # 1 : \n",
      "\n",
      "   A    B  C\n",
      "0  1  2.0  3\n",
      "1  4  5.0  6\n",
      "4  2  NaN  5\n",
      "\n",
      "Data Frame 2 : \n",
      "\n",
      "       A  B  C\n",
      "2      2  5  6\n",
      "3  Hello  3  4\n"
     ]
    }
   ],
   "source": [
    "df1 = pd.read_csv(DATASET_DATA_1,index_col=0)\n",
    "\n",
    "df2 = pd.read_csv(DATASET_DATA_2,index_col=1)\n",
    "\n",
    "print('Data Frame # 1 : \\n')\n",
    "print(df1.head())\n",
    "print('\\nData Frame 2 : \\n')\n",
    "print(df2.head())"
   ]
  },
  {
   "cell_type": "markdown",
   "metadata": {},
   "source": [
    "### Q1b"
   ]
  },
  {
   "cell_type": "code",
   "execution_count": 4,
   "metadata": {},
   "outputs": [
    {
     "name": "stdout",
     "output_type": "stream",
     "text": [
      "       A    B  C\n",
      "0      1  2.0  3\n",
      "1      4  5.0  6\n",
      "4      2  NaN  5\n",
      "2      2  5.0  6\n",
      "3  Hello  3.0  4\n"
     ]
    }
   ],
   "source": [
    "df3 = df1.append(df2)\n",
    "\n",
    "print(df3.head())"
   ]
  },
  {
   "cell_type": "markdown",
   "metadata": {},
   "source": [
    "### Q1c"
   ]
  },
  {
   "cell_type": "code",
   "execution_count": 5,
   "metadata": {},
   "outputs": [
    {
     "name": "stdout",
     "output_type": "stream",
     "text": [
      "   D  E\n",
      "1  1  7\n",
      "4  0  8\n"
     ]
    }
   ],
   "source": [
    "df4 = pd.read_csv(DATASET_DATA_3,index_col=0)\n",
    "print(df4.head())   "
   ]
  },
  {
   "cell_type": "code",
   "execution_count": 6,
   "metadata": {},
   "outputs": [
    {
     "name": "stdout",
     "output_type": "stream",
     "text": [
      "       A    B  C    D    E\n",
      "0      1  2.0  3  NaN  NaN\n",
      "1      4  5.0  6  1.0  7.0\n",
      "2      2  5.0  6  NaN  NaN\n",
      "3  Hello  3.0  4  NaN  NaN\n",
      "4      2  NaN  5  0.0  8.0\n"
     ]
    }
   ],
   "source": [
    "df5 = pd.concat([df3,df4],axis=1)\n",
    "print(df5.head())"
   ]
  },
  {
   "cell_type": "markdown",
   "metadata": {},
   "source": [
    "### Q1d"
   ]
  },
  {
   "cell_type": "code",
   "execution_count": 7,
   "metadata": {},
   "outputs": [
    {
     "name": "stdout",
     "output_type": "stream",
     "text": [
      "    A  B\n",
      "0  11  9\n",
      "1  22  7\n",
      "2  33  8\n"
     ]
    }
   ],
   "source": [
    "df6 = pd.read_json(DATASET_DATA_4)\n",
    "print(df6.head())"
   ]
  },
  {
   "cell_type": "code",
   "execution_count": 8,
   "metadata": {},
   "outputs": [
    {
     "name": "stdout",
     "output_type": "stream",
     "text": [
      "       A    B    C    D    E\n",
      "0      1  2.0  3.0  NaN  NaN\n",
      "1      4  5.0  6.0  1.0  7.0\n",
      "2      2  5.0  6.0  NaN  NaN\n",
      "3  Hello  3.0  4.0  NaN  NaN\n",
      "4      2  NaN  5.0  0.0  8.0\n",
      "5     11  9.0  NaN  NaN  NaN\n",
      "6     22  7.0  NaN  NaN  NaN\n",
      "7     33  8.0  NaN  NaN  NaN\n"
     ]
    }
   ],
   "source": [
    "df7 = pd.concat([df5,df6],ignore_index=True)\n",
    "print(df7)"
   ]
  },
  {
   "cell_type": "markdown",
   "metadata": {},
   "source": [
    "### Q1e"
   ]
  },
  {
   "cell_type": "code",
   "execution_count": 9,
   "metadata": {},
   "outputs": [
    {
     "name": "stdout",
     "output_type": "stream",
     "text": [
      "      A    B    C    D    E\n",
      "0   1.0  2.0  3.0  NaN  NaN\n",
      "1   4.0  5.0  6.0  1.0  7.0\n",
      "2   NaN  5.0  6.0  NaN  NaN\n",
      "3   NaN  3.0  4.0  NaN  NaN\n",
      "4   2.0  NaN  5.0  0.0  8.0\n",
      "5  11.0  9.0  NaN  NaN  NaN\n",
      "6  22.0  7.0  NaN  NaN  NaN\n",
      "7  33.0  8.0  NaN  NaN  NaN\n"
     ]
    }
   ],
   "source": [
    "df7 = df7.replace(r'\\s*',np.nan,regex=True)\n",
    "print(df7)"
   ]
  },
  {
   "cell_type": "markdown",
   "metadata": {},
   "source": [
    "### Q1f"
   ]
  },
  {
   "cell_type": "code",
   "execution_count": 10,
   "metadata": {},
   "outputs": [
    {
     "name": "stdout",
     "output_type": "stream",
     "text": [
      "           A         B    C    D    E\n",
      "0   1.000000  2.000000  3.0  0.5  7.5\n",
      "1   4.000000  5.000000  6.0  1.0  7.0\n",
      "2  12.166667  5.000000  6.0  0.5  7.5\n",
      "3  12.166667  3.000000  4.0  0.5  7.5\n",
      "4   2.000000  5.571429  5.0  0.0  8.0\n",
      "5  11.000000  9.000000  4.8  0.5  7.5\n",
      "6  22.000000  7.000000  4.8  0.5  7.5\n",
      "7  33.000000  8.000000  4.8  0.5  7.5\n"
     ]
    }
   ],
   "source": [
    "df7.fillna(df7.mean(),inplace=True)\n",
    "print(df7)\n",
    "df7.to_csv(NEW_DATASET)"
   ]
  }
 ],
 "metadata": {
  "kernelspec": {
   "display_name": "Python 3",
   "language": "python",
   "name": "python3"
  },
  "language_info": {
   "codemirror_mode": {
    "name": "ipython",
    "version": 3
   },
   "file_extension": ".py",
   "mimetype": "text/x-python",
   "name": "python",
   "nbconvert_exporter": "python",
   "pygments_lexer": "ipython3",
   "version": "3.7.4"
  }
 },
 "nbformat": 4,
 "nbformat_minor": 2
}
