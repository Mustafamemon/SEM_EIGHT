{
 "cells": [
  {
   "cell_type": "markdown",
   "metadata": {},
   "source": [
    "### IMPORT "
   ]
  },
  {
   "cell_type": "code",
   "execution_count": 1,
   "metadata": {
    "id": "TRoyPfjcVnYo"
   },
   "outputs": [],
   "source": [
    "# Load libraries\n",
    "import pandas\n",
    "import os\n",
    "import numpy as np \n",
    "from sklearn.model_selection import train_test_split\n",
    "from sklearn.metrics import classification_report\n",
    "from sklearn.metrics import confusion_matrix\n",
    "from sklearn.metrics import accuracy_score\n",
    "from sklearn.neighbors import KNeighborsClassifier"
   ]
  },
  {
   "cell_type": "markdown",
   "metadata": {},
   "source": [
    "### DATASET PATH"
   ]
  },
  {
   "cell_type": "code",
   "execution_count": 2,
   "metadata": {
    "id": "OcnjH2bZVnY9"
   },
   "outputs": [],
   "source": [
    "DATASET_PATH_IRIS      = os.path.join(os.path.abspath(\"Iris\"),'iris.data')\n",
    "DATASET_PATH_OD_TRAIN  = os.path.join(os.path.abspath(\"Occupency_Detection\"),'datatraining.txt')\n",
    "DATASET_PATH_OD_TEST_1 = os.path.join(os.path.abspath(\"Occupency_Detection\"),'datatest.txt')\n",
    "DATASET_PATH_OD_TEST_2 = os.path.join(os.path.abspath(\"Occupency_Detection\"),'datatest2.txt')"
   ]
  },
  {
   "cell_type": "markdown",
   "metadata": {},
   "source": [
    "### Q1 (ALL PARTS)"
   ]
  },
  {
   "cell_type": "code",
   "execution_count": 3,
   "metadata": {
    "colab": {
     "base_uri": "https://localhost:8080/"
    },
    "id": "z5iO0qaYVnZG",
    "outputId": "7b01404e-b534-4b0e-9e29-5237eebd47e5"
   },
   "outputs": [
    {
     "name": "stdout",
     "output_type": "stream",
     "text": [
      "\n",
      "A -> Load data set using pandas library\n",
      "\n",
      "   sepal-length  sepal-width  petal-length  petal-width        class\n",
      "0           5.1          3.5           1.4          0.2  Iris-setosa\n",
      "1           4.9          3.0           1.4          0.2  Iris-setosa\n",
      "2           4.7          3.2           1.3          0.2  Iris-setosa\n",
      "3           4.6          3.1           1.5          0.2  Iris-setosa\n",
      "4           5.0          3.6           1.4          0.2  Iris-setosa\n",
      "\n",
      "B -> Print the size of data set\n",
      "\n",
      "(150, 5)\n",
      "\n",
      "C -> Display the class distribution\n",
      "\n",
      "class\n",
      "Iris-setosa        50\n",
      "Iris-versicolor    50\n",
      "Iris-virginica     50\n",
      "dtype: int64\n",
      "\n",
      "D -> Now, divide your data using hold out approach (80% for training and 20% for testing # train / test dataset\n",
      "\n",
      "DONE\n",
      "\n",
      "E-> Apply knn classifier. See the documentation below. You need to import necessary classes\n",
      "\n",
      "0.9\n",
      "[[ 7  0  0]\n",
      " [ 0 11  1]\n",
      " [ 0  2  9]]\n",
      "                 precision    recall  f1-score   support\n",
      "\n",
      "    Iris-setosa       1.00      1.00      1.00         7\n",
      "Iris-versicolor       0.85      0.92      0.88        12\n",
      " Iris-virginica       0.90      0.82      0.86        11\n",
      "\n",
      "       accuracy                           0.90        30\n",
      "      macro avg       0.92      0.91      0.91        30\n",
      "   weighted avg       0.90      0.90      0.90        30\n",
      "\n",
      "\n",
      "F -> Repeat (e) by changing the value of k (k=1, 2, 3,…., 10). Print only accuracy\n",
      "\n",
      "k=1, Accuracy -> 0.9\n",
      "k=2, Accuracy -> 0.9333333333333333\n",
      "k=3, Accuracy -> 0.9\n",
      "k=4, Accuracy -> 0.9333333333333333\n",
      "k=5, Accuracy -> 0.9\n",
      "k=6, Accuracy -> 0.8666666666666667\n",
      "k=7, Accuracy -> 0.8666666666666667\n",
      "k=8, Accuracy -> 0.9\n",
      "k=9, Accuracy -> 0.9\n",
      "k=10, Accuracy -> 0.9\n",
      "\n",
      "G -> Repeat (e) by changing the value of seed (seed = 1, 2, 3, …. , 10). Print only accuracy\n",
      "\n",
      "k=1, Accuracy -> 1.0\n",
      "k=2, Accuracy -> 1.0\n",
      "k=3, Accuracy -> 0.9666666666666667\n",
      "k=4, Accuracy -> 0.9666666666666667\n",
      "k=5, Accuracy -> 0.9333333333333333\n",
      "k=6, Accuracy -> 1.0\n",
      "k=7, Accuracy -> 0.8666666666666667\n",
      "k=8, Accuracy -> 0.9666666666666667\n",
      "k=9, Accuracy -> 1.0\n",
      "k=10, Accuracy -> 1.0\n"
     ]
    }
   ],
   "source": [
    "# a\n",
    "print('\\nA -> Load data set using pandas library\\n')\n",
    "names = ['sepal-length', 'sepal-width', 'petal-length', 'petal-width', 'class']\n",
    "df = pandas.read_csv(DATASET_PATH_IRIS, names=names)\n",
    "print(df.head())\n",
    "\n",
    "# b\n",
    "print('\\nB -> Print the size of data set\\n')\n",
    "print(df.shape)\n",
    "\n",
    "# c\n",
    "print('\\nC -> Display the class distribution\\n')\n",
    "print(df.groupby('class').size())\n",
    "\n",
    "#d\n",
    "print('\\nD -> Now, divide your data using hold out approach (80% for training and 20% for testing # train / test dataset\\n')\n",
    "array = df.values \n",
    "X = array[:,0:4] \n",
    "Y = array[:,4] \n",
    "t_size = 0.20 \n",
    "seed = 7 \n",
    "X_train, X_test, Y_train, Y_test = train_test_split(X, Y, test_size=t_size,  \n",
    "random_state=seed) \n",
    "print('DONE')\n",
    "\n",
    "#e\n",
    "print('\\nE-> Apply knn classifier. See the documentation below. You need to import necessary classes\\n')\n",
    "knn = KNeighborsClassifier() \n",
    "knn.fit(X_train, Y_train) \n",
    "predictions = knn.predict(X_test) \n",
    "print(accuracy_score(Y_test, predictions)) \n",
    "print(confusion_matrix(Y_test, predictions)) \n",
    "print(classification_report(Y_test, predictions)) \n",
    "\n",
    "#f\n",
    "print('\\nF -> Repeat (e) by changing the value of k (k=1, 2, 3,…., 10). Print only accuracy\\n')\n",
    "for i in range(1,11):\n",
    "    knn = KNeighborsClassifier(n_neighbors=i) \n",
    "    knn.fit(X_train, Y_train)\n",
    "    predictions = knn.predict(X_test) \n",
    "    print('k='+str(i)+', Accuracy -> '+str(accuracy_score(Y_test, predictions)))\n",
    "\n",
    "\n",
    "#g\n",
    "print('\\nG -> Repeat (e) by changing the value of seed (seed = 1, 2, 3, …. , 10). Print only accuracy\\n')\n",
    "for i in range(1,11):\n",
    "    X_train, X_test, Y_train, Y_test = train_test_split(X, Y, test_size=t_size,  \n",
    "    random_state=i) \n",
    "    knn = KNeighborsClassifier(n_neighbors=i) \n",
    "    knn.fit(X_train, Y_train)\n",
    "    predictions = knn.predict(X_test) \n",
    "    print('k='+str(i)+', Accuracy -> '+str(accuracy_score(Y_test, predictions)))"
   ]
  },
  {
   "cell_type": "markdown",
   "metadata": {},
   "source": [
    "### Q2 (PART A , B ,C)"
   ]
  },
  {
   "cell_type": "code",
   "execution_count": 4,
   "metadata": {
    "colab": {
     "base_uri": "https://localhost:8080/"
    },
    "id": "dZ5JdrUcVnZN",
    "outputId": "fd3f146f-3492-4817-99a8-dad30e51ef23"
   },
   "outputs": [
    {
     "name": "stdout",
     "output_type": "stream",
     "text": [
      "\n",
      "A -> Load data set using pandas library\n",
      "\n",
      "   Temperature  Humidity  Light     CO2  HumidityRatio  Occupancy\n",
      "1        23.18   27.2720  426.0  721.25       0.004793          1\n",
      "2        23.15   27.2675  429.5  714.00       0.004783          1\n",
      "3        23.15   27.2450  426.0  713.50       0.004779          1\n",
      "4        23.15   27.2000  426.0  708.25       0.004772          1\n",
      "5        23.10   27.2000  426.0  704.50       0.004757          1\n",
      "\n",
      "     Temperature  Humidity       Light         CO2  HumidityRatio  Occupancy\n",
      "140      23.7000    26.272  585.200000  749.200000       0.004764          1\n",
      "141      23.7180    26.290  578.400000  760.400000       0.004773          1\n",
      "142      23.7300    26.230  572.666667  769.666667       0.004765          1\n",
      "143      23.7225    26.125  493.750000  774.750000       0.004744          1\n",
      "144      23.7540    26.200  488.600000  779.000000       0.004767          1\n",
      "\n",
      "   Temperature   Humidity       Light          CO2  HumidityRatio  Occupancy\n",
      "1      21.7600  31.133333  437.333333  1029.666667       0.005021          1\n",
      "2      21.7900  31.000000  437.333333  1000.000000       0.005009          1\n",
      "3      21.7675  31.122500  434.000000  1003.750000       0.005022          1\n",
      "4      21.7675  31.122500  439.000000  1009.500000       0.005022          1\n",
      "5      21.7900  31.133333  437.333333  1005.666667       0.005030          1\n",
      "\n",
      "\n",
      "B -> Print the size of data set\n",
      "\n",
      "(8143, 6)\n",
      "\n",
      "C -> Display the class distribution\n",
      "\n",
      "Occupancy\n",
      "0    6414\n",
      "1    1729\n",
      "dtype: int64\n"
     ]
    }
   ],
   "source": [
    "#a\n",
    "print('\\nA -> Load data set using pandas library\\n')\n",
    "df1_train = pandas.read_csv(DATASET_PATH_OD_TRAIN)\n",
    "df1_train = df1_train.drop(['date'], axis=1)\n",
    "\n",
    "df1_test = pandas.read_csv(DATASET_PATH_OD_TEST_1)\n",
    "df1_test = df1_test.drop(['date'], axis=1)\n",
    "\n",
    "df1_test2 = pandas.read_csv(DATASET_PATH_OD_TEST_2)\n",
    "df1_test2 = df1_test2.drop(['date'], axis=1)\n",
    "\n",
    "print(df1_train.head(),end='\\n\\n')\n",
    "print(df1_test.head(),end='\\n\\n')\n",
    "print(df1_test2.head(),end='\\n\\n')\n",
    "#b\n",
    "print('\\nB -> Print the size of data set\\n')\n",
    "print(df1_train.shape)\n",
    "\n",
    "#c\n",
    "print('\\nC -> Display the class distribution\\n')\n",
    "print(df1_train.groupby('Occupancy').size())\n"
   ]
  },
  {
   "cell_type": "markdown",
   "metadata": {},
   "source": [
    "### Q2 PART (E , F) USING df1_test"
   ]
  },
  {
   "cell_type": "code",
   "execution_count": 5,
   "metadata": {
    "colab": {
     "base_uri": "https://localhost:8080/"
    },
    "id": "qEmuYXLXVnZR",
    "outputId": "2c7e2bd1-5e26-49ff-e989-e3754ffd921f"
   },
   "outputs": [
    {
     "name": "stdout",
     "output_type": "stream",
     "text": [
      "\n",
      "E-> Apply knn classifier. SeQ2 PART (E , F) USING df1_test2e the documentation below. You need to import necessary classes\n",
      "\n",
      "0.9425891181988743\n",
      "[[1645   48]\n",
      " [ 105  867]]\n",
      "              precision    recall  f1-score   support\n",
      "\n",
      "           0       0.94      0.97      0.96      1693\n",
      "           1       0.95      0.89      0.92       972\n",
      "\n",
      "    accuracy                           0.94      2665\n",
      "   macro avg       0.94      0.93      0.94      2665\n",
      "weighted avg       0.94      0.94      0.94      2665\n",
      "\n",
      "\n",
      "F -> Repeat (e) by changing the value of k (k=1, 2, 3,…., 10). Print only accuracy\n",
      "\n",
      "k=1, Accuracy -> 0.9365853658536586\n",
      "k=2, Accuracy -> 0.9230769230769231\n",
      "k=3, Accuracy -> 0.9350844277673546\n",
      "k=4, Accuracy -> 0.9275797373358349\n",
      "k=5, Accuracy -> 0.9425891181988743\n",
      "k=6, Accuracy -> 0.9324577861163227\n",
      "k=7, Accuracy -> 0.9609756097560975\n",
      "k=8, Accuracy -> 0.9549718574108818\n",
      "k=9, Accuracy -> 0.9617260787992495\n",
      "k=10, Accuracy -> 0.9598499061913696\n"
     ]
    }
   ],
   "source": [
    "#d\n",
    "Y_train = df1_train['Occupancy'] \n",
    "X_train = df1_train.drop(['Occupancy'], axis=1)\n",
    "\n",
    "Y_test = df1_test['Occupancy'] \n",
    "X_test = df1_test.drop(['Occupancy'], axis=1)\n",
    "\n",
    "#e\n",
    "print('\\nE-> Apply knn classifier. SeQ2 PART (E , F) USING df1_test2e the documentation below. You need to import necessary classes\\n')\n",
    "knn = KNeighborsClassifier() \n",
    "knn.fit(X_train, Y_train) \n",
    "predictions = knn.predict(X_test) \n",
    "print(accuracy_score(Y_test, predictions)) \n",
    "print(confusion_matrix(Y_test, predictions)) \n",
    "print(classification_report(Y_test, predictions))\n",
    "\n",
    "#f\n",
    "print('\\nF -> Repeat (e) by changing the value of k (k=1, 2, 3,…., 10). Print only accuracy\\n')\n",
    "for i in range(1,11):\n",
    "    knn = KNeighborsClassifier(n_neighbors=i) \n",
    "    knn.fit(X_train, Y_train)\n",
    "    predictions = knn.predict(X_test) \n",
    "    print('k='+str(i)+', Accuracy -> '+str(accuracy_score(Y_test, predictions)))"
   ]
  },
  {
   "cell_type": "markdown",
   "metadata": {},
   "source": [
    "### Q2 PART (E , F) USING df1_test2"
   ]
  },
  {
   "cell_type": "code",
   "execution_count": 6,
   "metadata": {
    "colab": {
     "base_uri": "https://localhost:8080/"
    },
    "id": "O2QqRrjFVnZb",
    "outputId": "241ced39-2c6f-4bcd-d84d-92ccfe6e3392"
   },
   "outputs": [
    {
     "name": "stdout",
     "output_type": "stream",
     "text": [
      "\n",
      "E-> Apply knn classifier. See the documentation below. You need to import necessary classes\n",
      "\n",
      "0.9621616078753076\n",
      "[[7385  318]\n",
      " [  51 1998]]\n",
      "              precision    recall  f1-score   support\n",
      "\n",
      "           0       0.99      0.96      0.98      7703\n",
      "           1       0.86      0.98      0.92      2049\n",
      "\n",
      "    accuracy                           0.96      9752\n",
      "   macro avg       0.93      0.97      0.95      9752\n",
      "weighted avg       0.97      0.96      0.96      9752\n",
      "\n",
      "\n",
      "F -> Repeat (e) by changing the value of k (k=1, 2, 3,…., 10). Print only accuracy\n",
      "\n",
      "k=1, Accuracy -> 0.9502666119770303\n",
      "k=2, Accuracy -> 0.9525225594749795\n",
      "k=3, Accuracy -> 0.9579573420836751\n",
      "k=4, Accuracy -> 0.9539581624282198\n",
      "k=5, Accuracy -> 0.9621616078753076\n",
      "k=6, Accuracy -> 0.9628794093519278\n",
      "k=7, Accuracy -> 0.9649302707136997\n",
      "k=8, Accuracy -> 0.9658531583264971\n",
      "k=9, Accuracy -> 0.9656480721903199\n",
      "k=10, Accuracy -> 0.9656480721903199\n"
     ]
    }
   ],
   "source": [
    "#d\n",
    "Y_train = df1_train['Occupancy'] \n",
    "X_train = df1_train.drop(['Occupancy'], axis=1)\n",
    "\n",
    "Y_test = df1_test2['Occupancy'] \n",
    "X_test = df1_test2.drop(['Occupancy'], axis=1)\n",
    "\n",
    "#e\n",
    "print('\\nE-> Apply knn classifier. See the documentation below. You need to import necessary classes\\n')\n",
    "knn = KNeighborsClassifier() \n",
    "knn.fit(X_train, Y_train) \n",
    "predictions = knn.predict(X_test) \n",
    "print(accuracy_score(Y_test, predictions)) \n",
    "print(confusion_matrix(Y_test, predictions)) \n",
    "print(classification_report(Y_test, predictions))\n",
    "\n",
    "#f\n",
    "print('\\nF -> Repeat (e) by changing the value of k (k=1, 2, 3,…., 10). Print only accuracy\\n')\n",
    "\n",
    "for i in range(1,11):\n",
    "    knn = KNeighborsClassifier(n_neighbors=i) \n",
    "    knn.fit(X_train, Y_train)\n",
    "    predictions = knn.predict(X_test) \n",
    "    print('k='+str(i)+', Accuracy -> '+str(accuracy_score(Y_test, predictions)))"
   ]
  },
  {
   "cell_type": "markdown",
   "metadata": {},
   "source": [
    "### Q3 "
   ]
  },
  {
   "cell_type": "code",
   "execution_count": 7,
   "metadata": {
    "id": "sKhFbl9HVnZe"
   },
   "outputs": [],
   "source": [
    "def ChiSquaredDistance(x,y):\n",
    "     return sum(((x-y)**2)/(x+y))"
   ]
  },
  {
   "cell_type": "markdown",
   "metadata": {},
   "source": [
    "### Q3 AS Q1 (USING Q1 DATASET)"
   ]
  },
  {
   "cell_type": "code",
   "execution_count": 8,
   "metadata": {},
   "outputs": [
    {
     "name": "stdout",
     "output_type": "stream",
     "text": [
      "\n",
      "A -> Load data set using pandas library\n",
      "\n",
      "   sepal-length  sepal-width  petal-length  petal-width        class\n",
      "0           5.1          3.5           1.4          0.2  Iris-setosa\n",
      "1           4.9          3.0           1.4          0.2  Iris-setosa\n",
      "2           4.7          3.2           1.3          0.2  Iris-setosa\n",
      "3           4.6          3.1           1.5          0.2  Iris-setosa\n",
      "4           5.0          3.6           1.4          0.2  Iris-setosa\n",
      "\n",
      "B -> Print the size of data set\n",
      "\n",
      "(150, 5)\n",
      "\n",
      "C -> Display the class distribution\n",
      "\n",
      "class\n",
      "Iris-setosa        50\n",
      "Iris-versicolor    50\n",
      "Iris-virginica     50\n",
      "dtype: int64\n",
      "\n",
      "D -> Now, divide your data using hold out approach (80% for training and 20% for testing # train / test dataset\n",
      "\n",
      "DONE\n",
      "\n",
      "E-> Apply knn classifier. See the documentation below. You need to import necessary classes\n",
      "\n",
      "0.9\n",
      "[[ 7  0  0]\n",
      " [ 0 10  2]\n",
      " [ 0  1 10]]\n",
      "                 precision    recall  f1-score   support\n",
      "\n",
      "    Iris-setosa       1.00      1.00      1.00         7\n",
      "Iris-versicolor       0.91      0.83      0.87        12\n",
      " Iris-virginica       0.83      0.91      0.87        11\n",
      "\n",
      "       accuracy                           0.90        30\n",
      "      macro avg       0.91      0.91      0.91        30\n",
      "   weighted avg       0.90      0.90      0.90        30\n",
      "\n",
      "\n",
      "F -> Repeat (e) by changing the value of k (k=1, 2, 3,…., 10). Print only accuracy\n",
      "\n",
      "k=1, Accuracy -> 0.9333333333333333\n",
      "k=2, Accuracy -> 0.9666666666666667\n",
      "k=3, Accuracy -> 0.9\n",
      "k=4, Accuracy -> 0.8666666666666667\n",
      "k=5, Accuracy -> 0.9\n",
      "k=6, Accuracy -> 0.8666666666666667\n",
      "k=7, Accuracy -> 0.8666666666666667\n",
      "k=8, Accuracy -> 0.8666666666666667\n",
      "k=9, Accuracy -> 0.9\n",
      "k=10, Accuracy -> 0.9\n",
      "\n",
      "G -> Repeat (e) by changing the value of seed (seed = 1, 2, 3, …. , 10). Print only accuracy\n",
      "\n",
      "k=1, Accuracy -> 1.0\n",
      "k=2, Accuracy -> 1.0\n",
      "k=3, Accuracy -> 0.9666666666666667\n",
      "k=4, Accuracy -> 0.9333333333333333\n",
      "k=5, Accuracy -> 0.9333333333333333\n",
      "k=6, Accuracy -> 1.0\n",
      "k=7, Accuracy -> 0.8666666666666667\n",
      "k=8, Accuracy -> 0.9\n",
      "k=9, Accuracy -> 1.0\n",
      "k=10, Accuracy -> 1.0\n"
     ]
    }
   ],
   "source": [
    "# a\n",
    "print('\\nA -> Load data set using pandas library\\n')\n",
    "names = ['sepal-length', 'sepal-width', 'petal-length', 'petal-width', 'class']\n",
    "df = pandas.read_csv(DATASET_PATH_IRIS, names=names)\n",
    "print(df.head())\n",
    "\n",
    "# b\n",
    "print('\\nB -> Print the size of data set\\n')\n",
    "print(df.shape)\n",
    "\n",
    "# c\n",
    "print('\\nC -> Display the class distribution\\n')\n",
    "print(df.groupby('class').size())\n",
    "\n",
    "#d\n",
    "print('\\nD -> Now, divide your data using hold out approach (80% for training and 20% for testing # train / test dataset\\n')\n",
    "array = df.values \n",
    "X = array[:,0:4] \n",
    "Y = array[:,4] \n",
    "t_size = 0.20 \n",
    "seed = 7 \n",
    "X_train, X_test, Y_train, Y_test = train_test_split(X, Y, test_size=t_size,  \n",
    "random_state=seed) \n",
    "print('DONE')\n",
    "\n",
    "#e\n",
    "print('\\nE-> Apply knn classifier. See the documentation below. You need to import necessary classes\\n')\n",
    "knn = KNeighborsClassifier(metric=ChiSquaredDistance) \n",
    "knn.fit(X_train, Y_train) \n",
    "predictions = knn.predict(X_test) \n",
    "print(accuracy_score(Y_test, predictions)) \n",
    "print(confusion_matrix(Y_test, predictions)) \n",
    "print(classification_report(Y_test, predictions)) \n",
    "\n",
    "#f\n",
    "print('\\nF -> Repeat (e) by changing the value of k (k=1, 2, 3,…., 10). Print only accuracy\\n')\n",
    "for i in range(1,11):\n",
    "    knn = KNeighborsClassifier(metric=ChiSquaredDistance,n_neighbors=i) \n",
    "    knn.fit(X_train, Y_train)\n",
    "    predictions = knn.predict(X_test) \n",
    "    print('k='+str(i)+', Accuracy -> '+str(accuracy_score(Y_test, predictions)))\n",
    "\n",
    "\n",
    "#g\n",
    "print('\\nG -> Repeat (e) by changing the value of seed (seed = 1, 2, 3, …. , 10). Print only accuracy\\n')\n",
    "for i in range(1,11):\n",
    "    X_train, X_test, Y_train, Y_test = train_test_split(X, Y, test_size=t_size,  \n",
    "    random_state=i) \n",
    "    knn = KNeighborsClassifier(metric=ChiSquaredDistance,n_neighbors=i) \n",
    "    knn.fit(X_train, Y_train)\n",
    "    predictions = knn.predict(X_test) \n",
    "    print('k='+str(i)+', Accuracy -> '+str(accuracy_score(Y_test, predictions)))"
   ]
  },
  {
   "cell_type": "markdown",
   "metadata": {},
   "source": [
    "### Q3 AS Q2 PART (E , F) (USING Q2 df1_test)"
   ]
  },
  {
   "cell_type": "code",
   "execution_count": 9,
   "metadata": {},
   "outputs": [
    {
     "name": "stdout",
     "output_type": "stream",
     "text": [
      "\n",
      "E-> Apply knn classifier. SeQ2 PART (E , F) USING df1_test2e the documentation below. You need to import necessary classes\n",
      "\n"
     ]
    },
    {
     "name": "stderr",
     "output_type": "stream",
     "text": [
      "c:\\users\\aac\\.virtualenvs\\labs-mlik71kx\\lib\\site-packages\\ipykernel_launcher.py:2: RuntimeWarning: invalid value encountered in true_divide\n",
      "  \n",
      "c:\\users\\aac\\.virtualenvs\\labs-mlik71kx\\lib\\site-packages\\ipykernel_launcher.py:2: RuntimeWarning: invalid value encountered in true_divide\n",
      "  \n"
     ]
    },
    {
     "name": "stdout",
     "output_type": "stream",
     "text": [
      "0.9335834896810506\n",
      "[[1645   48]\n",
      " [ 129  843]]\n",
      "              precision    recall  f1-score   support\n",
      "\n",
      "           0       0.93      0.97      0.95      1693\n",
      "           1       0.95      0.87      0.90       972\n",
      "\n",
      "    accuracy                           0.93      2665\n",
      "   macro avg       0.94      0.92      0.93      2665\n",
      "weighted avg       0.93      0.93      0.93      2665\n",
      "\n",
      "\n",
      "F -> Repeat (e) by changing the value of k (k=1, 2, 3,…., 10). Print only accuracy\n",
      "\n"
     ]
    },
    {
     "name": "stderr",
     "output_type": "stream",
     "text": [
      "c:\\users\\aac\\.virtualenvs\\labs-mlik71kx\\lib\\site-packages\\ipykernel_launcher.py:2: RuntimeWarning: invalid value encountered in true_divide\n",
      "  \n",
      "c:\\users\\aac\\.virtualenvs\\labs-mlik71kx\\lib\\site-packages\\ipykernel_launcher.py:2: RuntimeWarning: invalid value encountered in true_divide\n",
      "  \n"
     ]
    },
    {
     "name": "stdout",
     "output_type": "stream",
     "text": [
      "k=1, Accuracy -> 0.9227016885553471\n"
     ]
    },
    {
     "name": "stderr",
     "output_type": "stream",
     "text": [
      "c:\\users\\aac\\.virtualenvs\\labs-mlik71kx\\lib\\site-packages\\ipykernel_launcher.py:2: RuntimeWarning: invalid value encountered in true_divide\n",
      "  \n",
      "c:\\users\\aac\\.virtualenvs\\labs-mlik71kx\\lib\\site-packages\\ipykernel_launcher.py:2: RuntimeWarning: invalid value encountered in true_divide\n",
      "  \n"
     ]
    },
    {
     "name": "stdout",
     "output_type": "stream",
     "text": [
      "k=2, Accuracy -> 0.9050656660412758\n"
     ]
    },
    {
     "name": "stderr",
     "output_type": "stream",
     "text": [
      "c:\\users\\aac\\.virtualenvs\\labs-mlik71kx\\lib\\site-packages\\ipykernel_launcher.py:2: RuntimeWarning: invalid value encountered in true_divide\n",
      "  \n",
      "c:\\users\\aac\\.virtualenvs\\labs-mlik71kx\\lib\\site-packages\\ipykernel_launcher.py:2: RuntimeWarning: invalid value encountered in true_divide\n",
      "  \n"
     ]
    },
    {
     "name": "stdout",
     "output_type": "stream",
     "text": [
      "k=3, Accuracy -> 0.924202626641651\n"
     ]
    },
    {
     "name": "stderr",
     "output_type": "stream",
     "text": [
      "c:\\users\\aac\\.virtualenvs\\labs-mlik71kx\\lib\\site-packages\\ipykernel_launcher.py:2: RuntimeWarning: invalid value encountered in true_divide\n",
      "  \n",
      "c:\\users\\aac\\.virtualenvs\\labs-mlik71kx\\lib\\site-packages\\ipykernel_launcher.py:2: RuntimeWarning: invalid value encountered in true_divide\n",
      "  \n"
     ]
    },
    {
     "name": "stdout",
     "output_type": "stream",
     "text": [
      "k=4, Accuracy -> 0.9144465290806755\n"
     ]
    },
    {
     "name": "stderr",
     "output_type": "stream",
     "text": [
      "c:\\users\\aac\\.virtualenvs\\labs-mlik71kx\\lib\\site-packages\\ipykernel_launcher.py:2: RuntimeWarning: invalid value encountered in true_divide\n",
      "  \n",
      "c:\\users\\aac\\.virtualenvs\\labs-mlik71kx\\lib\\site-packages\\ipykernel_launcher.py:2: RuntimeWarning: invalid value encountered in true_divide\n",
      "  \n"
     ]
    },
    {
     "name": "stdout",
     "output_type": "stream",
     "text": [
      "k=5, Accuracy -> 0.9335834896810506\n"
     ]
    },
    {
     "name": "stderr",
     "output_type": "stream",
     "text": [
      "c:\\users\\aac\\.virtualenvs\\labs-mlik71kx\\lib\\site-packages\\ipykernel_launcher.py:2: RuntimeWarning: invalid value encountered in true_divide\n",
      "  \n",
      "c:\\users\\aac\\.virtualenvs\\labs-mlik71kx\\lib\\site-packages\\ipykernel_launcher.py:2: RuntimeWarning: invalid value encountered in true_divide\n",
      "  \n"
     ]
    },
    {
     "name": "stdout",
     "output_type": "stream",
     "text": [
      "k=6, Accuracy -> 0.9230769230769231\n"
     ]
    },
    {
     "name": "stderr",
     "output_type": "stream",
     "text": [
      "c:\\users\\aac\\.virtualenvs\\labs-mlik71kx\\lib\\site-packages\\ipykernel_launcher.py:2: RuntimeWarning: invalid value encountered in true_divide\n",
      "  \n",
      "c:\\users\\aac\\.virtualenvs\\labs-mlik71kx\\lib\\site-packages\\ipykernel_launcher.py:2: RuntimeWarning: invalid value encountered in true_divide\n",
      "  \n"
     ]
    },
    {
     "name": "stdout",
     "output_type": "stream",
     "text": [
      "k=7, Accuracy -> 0.9530956848030019\n"
     ]
    },
    {
     "name": "stderr",
     "output_type": "stream",
     "text": [
      "c:\\users\\aac\\.virtualenvs\\labs-mlik71kx\\lib\\site-packages\\ipykernel_launcher.py:2: RuntimeWarning: invalid value encountered in true_divide\n",
      "  \n",
      "c:\\users\\aac\\.virtualenvs\\labs-mlik71kx\\lib\\site-packages\\ipykernel_launcher.py:2: RuntimeWarning: invalid value encountered in true_divide\n",
      "  \n"
     ]
    },
    {
     "name": "stdout",
     "output_type": "stream",
     "text": [
      "k=8, Accuracy -> 0.9467166979362102\n"
     ]
    },
    {
     "name": "stderr",
     "output_type": "stream",
     "text": [
      "c:\\users\\aac\\.virtualenvs\\labs-mlik71kx\\lib\\site-packages\\ipykernel_launcher.py:2: RuntimeWarning: invalid value encountered in true_divide\n",
      "  \n",
      "c:\\users\\aac\\.virtualenvs\\labs-mlik71kx\\lib\\site-packages\\ipykernel_launcher.py:2: RuntimeWarning: invalid value encountered in true_divide\n",
      "  \n"
     ]
    },
    {
     "name": "stdout",
     "output_type": "stream",
     "text": [
      "k=9, Accuracy -> 0.9654784240150094\n"
     ]
    },
    {
     "name": "stderr",
     "output_type": "stream",
     "text": [
      "c:\\users\\aac\\.virtualenvs\\labs-mlik71kx\\lib\\site-packages\\ipykernel_launcher.py:2: RuntimeWarning: invalid value encountered in true_divide\n",
      "  \n",
      "c:\\users\\aac\\.virtualenvs\\labs-mlik71kx\\lib\\site-packages\\ipykernel_launcher.py:2: RuntimeWarning: invalid value encountered in true_divide\n",
      "  \n"
     ]
    },
    {
     "name": "stdout",
     "output_type": "stream",
     "text": [
      "k=10, Accuracy -> 0.9609756097560975\n"
     ]
    }
   ],
   "source": [
    "#d\n",
    "Y_train = df1_train['Occupancy'] \n",
    "X_train = df1_train.drop(['Occupancy'], axis=1)\n",
    "\n",
    "Y_test = df1_test['Occupancy'] \n",
    "X_test = df1_test.drop(['Occupancy'], axis=1)\n",
    "\n",
    "#e\n",
    "print('\\nE-> Apply knn classifier. SeQ2 PART (E , F) USING df1_test2e the documentation below. You need to import necessary classes\\n')\n",
    "knn = KNeighborsClassifier(metric=ChiSquaredDistance) \n",
    "knn.fit(X_train, Y_train) \n",
    "predictions = knn.predict(X_test) \n",
    "print(accuracy_score(Y_test, predictions)) \n",
    "print(confusion_matrix(Y_test, predictions)) \n",
    "print(classification_report(Y_test, predictions))\n",
    "\n",
    "#f\n",
    "print('\\nF -> Repeat (e) by changing the value of k (k=1, 2, 3,…., 10). Print only accuracy\\n')\n",
    "for i in range(1,11):\n",
    "    knn = KNeighborsClassifier(metric=ChiSquaredDistance,n_neighbors=i) \n",
    "    knn.fit(X_train, Y_train)\n",
    "    predictions = knn.predict(X_test) \n",
    "    print('k='+str(i)+', Accuracy -> '+str(accuracy_score(Y_test, predictions)))"
   ]
  },
  {
   "cell_type": "markdown",
   "metadata": {},
   "source": [
    "### Q3 AS Q2 PART (E , F) (USING Q2 df1_test1)"
   ]
  },
  {
   "cell_type": "code",
   "execution_count": 10,
   "metadata": {},
   "outputs": [
    {
     "name": "stdout",
     "output_type": "stream",
     "text": [
      "\n",
      "E-> Apply knn classifier. See the documentation below. You need to import necessary classes\n",
      "\n"
     ]
    },
    {
     "name": "stderr",
     "output_type": "stream",
     "text": [
      "c:\\users\\aac\\.virtualenvs\\labs-mlik71kx\\lib\\site-packages\\ipykernel_launcher.py:2: RuntimeWarning: invalid value encountered in true_divide\n",
      "  \n",
      "c:\\users\\aac\\.virtualenvs\\labs-mlik71kx\\lib\\site-packages\\ipykernel_launcher.py:2: RuntimeWarning: invalid value encountered in true_divide\n",
      "  \n"
     ]
    },
    {
     "name": "stdout",
     "output_type": "stream",
     "text": [
      "0.9607260049220673\n",
      "[[7410  293]\n",
      " [  90 1959]]\n",
      "              precision    recall  f1-score   support\n",
      "\n",
      "           0       0.99      0.96      0.97      7703\n",
      "           1       0.87      0.96      0.91      2049\n",
      "\n",
      "    accuracy                           0.96      9752\n",
      "   macro avg       0.93      0.96      0.94      9752\n",
      "weighted avg       0.96      0.96      0.96      9752\n",
      "\n",
      "\n",
      "F -> Repeat (e) by changing the value of k (k=1, 2, 3,…., 10). Print only accuracy\n",
      "\n"
     ]
    },
    {
     "name": "stderr",
     "output_type": "stream",
     "text": [
      "c:\\users\\aac\\.virtualenvs\\labs-mlik71kx\\lib\\site-packages\\ipykernel_launcher.py:2: RuntimeWarning: invalid value encountered in true_divide\n",
      "  \n",
      "c:\\users\\aac\\.virtualenvs\\labs-mlik71kx\\lib\\site-packages\\ipykernel_launcher.py:2: RuntimeWarning: invalid value encountered in true_divide\n",
      "  \n"
     ]
    },
    {
     "name": "stdout",
     "output_type": "stream",
     "text": [
      "k=1, Accuracy -> 0.9511894995898277\n"
     ]
    },
    {
     "name": "stderr",
     "output_type": "stream",
     "text": [
      "c:\\users\\aac\\.virtualenvs\\labs-mlik71kx\\lib\\site-packages\\ipykernel_launcher.py:2: RuntimeWarning: invalid value encountered in true_divide\n",
      "  \n",
      "c:\\users\\aac\\.virtualenvs\\labs-mlik71kx\\lib\\site-packages\\ipykernel_launcher.py:2: RuntimeWarning: invalid value encountered in true_divide\n",
      "  \n"
     ]
    },
    {
     "name": "stdout",
     "output_type": "stream",
     "text": [
      "k=2, Accuracy -> 0.9521123872026251\n"
     ]
    },
    {
     "name": "stderr",
     "output_type": "stream",
     "text": [
      "c:\\users\\aac\\.virtualenvs\\labs-mlik71kx\\lib\\site-packages\\ipykernel_launcher.py:2: RuntimeWarning: invalid value encountered in true_divide\n",
      "  \n",
      "c:\\users\\aac\\.virtualenvs\\labs-mlik71kx\\lib\\site-packages\\ipykernel_launcher.py:2: RuntimeWarning: invalid value encountered in true_divide\n",
      "  \n"
     ]
    },
    {
     "name": "stdout",
     "output_type": "stream",
     "text": [
      "k=3, Accuracy -> 0.9558039376538146\n"
     ]
    },
    {
     "name": "stderr",
     "output_type": "stream",
     "text": [
      "c:\\users\\aac\\.virtualenvs\\labs-mlik71kx\\lib\\site-packages\\ipykernel_launcher.py:2: RuntimeWarning: invalid value encountered in true_divide\n",
      "  \n",
      "c:\\users\\aac\\.virtualenvs\\labs-mlik71kx\\lib\\site-packages\\ipykernel_launcher.py:2: RuntimeWarning: invalid value encountered in true_divide\n",
      "  \n"
     ]
    },
    {
     "name": "stdout",
     "output_type": "stream",
     "text": [
      "k=4, Accuracy -> 0.9563166529942576\n"
     ]
    },
    {
     "name": "stderr",
     "output_type": "stream",
     "text": [
      "c:\\users\\aac\\.virtualenvs\\labs-mlik71kx\\lib\\site-packages\\ipykernel_launcher.py:2: RuntimeWarning: invalid value encountered in true_divide\n",
      "  \n",
      "c:\\users\\aac\\.virtualenvs\\labs-mlik71kx\\lib\\site-packages\\ipykernel_launcher.py:2: RuntimeWarning: invalid value encountered in true_divide\n",
      "  \n"
     ]
    },
    {
     "name": "stdout",
     "output_type": "stream",
     "text": [
      "k=5, Accuracy -> 0.9607260049220673\n"
     ]
    },
    {
     "name": "stderr",
     "output_type": "stream",
     "text": [
      "c:\\users\\aac\\.virtualenvs\\labs-mlik71kx\\lib\\site-packages\\ipykernel_launcher.py:2: RuntimeWarning: invalid value encountered in true_divide\n",
      "  \n",
      "c:\\users\\aac\\.virtualenvs\\labs-mlik71kx\\lib\\site-packages\\ipykernel_launcher.py:2: RuntimeWarning: invalid value encountered in true_divide\n",
      "  \n"
     ]
    },
    {
     "name": "stdout",
     "output_type": "stream",
     "text": [
      "k=6, Accuracy -> 0.9597005742411813\n"
     ]
    },
    {
     "name": "stderr",
     "output_type": "stream",
     "text": [
      "c:\\users\\aac\\.virtualenvs\\labs-mlik71kx\\lib\\site-packages\\ipykernel_launcher.py:2: RuntimeWarning: invalid value encountered in true_divide\n",
      "  \n",
      "c:\\users\\aac\\.virtualenvs\\labs-mlik71kx\\lib\\site-packages\\ipykernel_launcher.py:2: RuntimeWarning: invalid value encountered in true_divide\n",
      "  \n"
     ]
    },
    {
     "name": "stdout",
     "output_type": "stream",
     "text": [
      "k=7, Accuracy -> 0.9609310910582445\n"
     ]
    },
    {
     "name": "stderr",
     "output_type": "stream",
     "text": [
      "c:\\users\\aac\\.virtualenvs\\labs-mlik71kx\\lib\\site-packages\\ipykernel_launcher.py:2: RuntimeWarning: invalid value encountered in true_divide\n",
      "  \n",
      "c:\\users\\aac\\.virtualenvs\\labs-mlik71kx\\lib\\site-packages\\ipykernel_launcher.py:2: RuntimeWarning: invalid value encountered in true_divide\n",
      "  \n"
     ]
    },
    {
     "name": "stdout",
     "output_type": "stream",
     "text": [
      "k=8, Accuracy -> 0.9606234618539786\n"
     ]
    },
    {
     "name": "stderr",
     "output_type": "stream",
     "text": [
      "c:\\users\\aac\\.virtualenvs\\labs-mlik71kx\\lib\\site-packages\\ipykernel_launcher.py:2: RuntimeWarning: invalid value encountered in true_divide\n",
      "  \n",
      "c:\\users\\aac\\.virtualenvs\\labs-mlik71kx\\lib\\site-packages\\ipykernel_launcher.py:2: RuntimeWarning: invalid value encountered in true_divide\n",
      "  \n"
     ]
    },
    {
     "name": "stdout",
     "output_type": "stream",
     "text": [
      "k=9, Accuracy -> 0.963084495488105\n"
     ]
    },
    {
     "name": "stderr",
     "output_type": "stream",
     "text": [
      "c:\\users\\aac\\.virtualenvs\\labs-mlik71kx\\lib\\site-packages\\ipykernel_launcher.py:2: RuntimeWarning: invalid value encountered in true_divide\n",
      "  \n",
      "c:\\users\\aac\\.virtualenvs\\labs-mlik71kx\\lib\\site-packages\\ipykernel_launcher.py:2: RuntimeWarning: invalid value encountered in true_divide\n",
      "  \n"
     ]
    },
    {
     "name": "stdout",
     "output_type": "stream",
     "text": [
      "k=10, Accuracy -> 0.963084495488105\n"
     ]
    }
   ],
   "source": [
    "#d\n",
    "Y_train = df1_train['Occupancy'] \n",
    "X_train = df1_train.drop(['Occupancy'], axis=1)\n",
    "\n",
    "Y_test = df1_test2['Occupancy'] \n",
    "X_test = df1_test2.drop(['Occupancy'], axis=1)\n",
    "\n",
    "#e\n",
    "print('\\nE-> Apply knn classifier. See the documentation below. You need to import necessary classes\\n')\n",
    "knn = KNeighborsClassifier(metric=ChiSquaredDistance) \n",
    "knn.fit(X_train, Y_train) \n",
    "predictions = knn.predict(X_test) \n",
    "print(accuracy_score(Y_test, predictions)) \n",
    "print(confusion_matrix(Y_test, predictions)) \n",
    "print(classification_report(Y_test, predictions))\n",
    "\n",
    "#f\n",
    "print('\\nF -> Repeat (e) by changing the value of k (k=1, 2, 3,…., 10). Print only accuracy\\n')\n",
    "\n",
    "for i in range(1,11):\n",
    "    knn = KNeighborsClassifier(metric=ChiSquaredDistance,n_neighbors=i) \n",
    "    knn.fit(X_train, Y_train)\n",
    "    predictions = knn.predict(X_test) \n",
    "    print('k='+str(i)+', Accuracy -> '+str(accuracy_score(Y_test, predictions)))"
   ]
  }
 ],
 "metadata": {
  "anaconda-cloud": {},
  "colab": {
   "collapsed_sections": [],
   "name": "K173795-Lab_4.ipynb",
   "provenance": []
  },
  "kernelspec": {
   "display_name": "Python 3",
   "language": "python",
   "name": "python3"
  },
  "language_info": {
   "codemirror_mode": {
    "name": "ipython",
    "version": 3
   },
   "file_extension": ".py",
   "mimetype": "text/x-python",
   "name": "python",
   "nbconvert_exporter": "python",
   "pygments_lexer": "ipython3",
   "version": "3.7.4"
  }
 },
 "nbformat": 4,
 "nbformat_minor": 1
}
