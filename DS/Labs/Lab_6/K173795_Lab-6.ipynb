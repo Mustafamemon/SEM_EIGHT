{
 "cells": [
  {
   "cell_type": "code",
   "execution_count": 1,
   "metadata": {},
   "outputs": [],
   "source": [
    "import os\n",
    "import pandas as pd\n",
    "import numpy as np\n",
    "from sklearn.model_selection import RepeatedKFold\n",
    "from sklearn.model_selection import train_test_split\n",
    "from sklearn.tree import DecisionTreeClassifier\n",
    "from sklearn.metrics import accuracy_score"
   ]
  },
  {
   "cell_type": "code",
   "execution_count": 2,
   "metadata": {},
   "outputs": [],
   "source": [
    "BASE_PATH = os.path.abspath(\"Dataset\")\n",
    "DATASET_PATH_1 = os.path.join(BASE_PATH,\"Data_for_UCI_named.csv\")\n",
    "DATASET_PATH_2 = os.path.join(BASE_PATH,\"hcvdat0.csv\")\n",
    "DATASET_PATH_3 = os.path.join(BASE_PATH,\"fertility_Diagnosis.txt\")\n",
    "DATASET_PATH_4 = os.path.join(BASE_PATH,\"PhishingData.csv\")\n",
    "DATASET_PATH_5 = os.path.join(BASE_PATH,\"log2.csv\")"
   ]
  },
  {
   "cell_type": "code",
   "execution_count": 3,
   "metadata": {},
   "outputs": [],
   "source": [
    "def TenfoldDT(X, Y, model):\n",
    "    \n",
    "    # define cross validation as 10 times 10 Fold CV\n",
    "    cv = RepeatedKFold(n_splits=10, n_repeats=10)\n",
    "    \n",
    "    accuracy = []\n",
    "    \n",
    "    # splitting into test and train using 10 Fold CV and calculating accuracy on test data\n",
    "    for train_index, test_index in cv.split(X):\n",
    "        X_train, X_test = X[train_index], X[test_index]\n",
    "        Y_train, Y_test = Y[train_index], Y[test_index]\n",
    "        model.fit(X_train, Y_train)\n",
    "        Y_Pred = model.predict(X_test)\n",
    "        accuracy.append(accuracy_score(Y_test, Y_Pred))\n",
    "    return np.std(accuracy)"
   ]
  },
  {
   "cell_type": "code",
   "execution_count": 4,
   "metadata": {},
   "outputs": [],
   "source": [
    "def holdoutDT(X, Y, model):\n",
    "   \n",
    "    # define classifier as Decision Tree\n",
    "    accuracy = []\n",
    "    \n",
    "    # loop to repeat holdout 100 times\n",
    "    for i in range(100):\n",
    "        # Spliting data into train and test by ratio 70:30\n",
    "        X_train, X_test, Y_train, Y_test = train_test_split(X, Y, test_size=0.3, random_state=i)\n",
    "        model.fit(X_train, Y_train)\n",
    "        Y_Pred = model.predict(X_test)\n",
    "        accuracy.append(accuracy_score(Y_test, Y_Pred))\n",
    "    return np.std(accuracy)"
   ]
  },
  {
   "cell_type": "code",
   "execution_count": 5,
   "metadata": {},
   "outputs": [],
   "source": [
    "def ALLINONE(X,Y):\n",
    "    # Decision Tree with 10 Fold CV, Gini, Without pruning\n",
    "    model = DecisionTreeClassifier(criterion = 'gini')\n",
    "    std_accc = TenfoldDT(X, Y, model)\n",
    "    \n",
    "    print(\"***Decision Tree with 10 Fold CV, Gini, Without pruning***\")\n",
    "    print(\"STD  ACC :\",std_accc)\n",
    "\n",
    "    # Decision Tree with 10 Fold CV, Gini, With pruning\n",
    "    model = DecisionTreeClassifier(criterion = 'gini', ccp_alpha=0.015)\n",
    "    std_accc = TenfoldDT(X, Y, model)\n",
    "\n",
    "    print(\"\\n***Decision Tree with 10 Fold CV, Gini, With pruning***\")\n",
    "    print(\"STD  ACC :\",std_accc)\n",
    "    \n",
    "    # Decision Tree with 10 Fold CV, Entropy, Without pruning\n",
    "    model = DecisionTreeClassifier(criterion = 'entropy')\n",
    "    std_accc = holdoutDT(X, Y, model)\n",
    "\n",
    "    print(\"\\n***Decision Tree with 10 Fold CV, Entropy, Without pruning***\")\n",
    "    print(\"STD  ACC :\",std_accc)\n",
    "    \n",
    "    # Decision Tree with 10 Fold CV, Entropy, With pruning\n",
    "    model = DecisionTreeClassifier(criterion = 'entropy', ccp_alpha=0.015)\n",
    "    std_accc =  TenfoldDT(X, Y, model)\n",
    "\n",
    "    print(\"\\n***Decision Tree with 10 Fold CV, Entropy, With pruning***\")\n",
    "    print(\"STD  ACC :\",std_accc)\n",
    "    \n",
    "    # Decision Tree with Holdout, Gini, Without pruning\n",
    "    model = DecisionTreeClassifier(criterion = 'gini')\n",
    "    std_accc = holdoutDT(X, Y, model)\n",
    "\n",
    "    print(\"\\n***Decision Tree with Holdout, Gini, Without pruning***\")\n",
    "    print(\"STD  ACC :\",std_accc)\n",
    "    \n",
    "    # Decision Tree with Holdout, Gini, With pruning\n",
    "    model = DecisionTreeClassifier(criterion = 'gini', ccp_alpha=0.015)\n",
    "    std_accc = holdoutDT(X, Y, model)\n",
    "\n",
    "    print(\"\\n***Decision Tree with Holdout, Gini, With pruning***\")\n",
    "    print(\"STD  ACC :\",std_accc)\n",
    "    \n",
    "    # Decision Tree with Holdout, Entropy, Without pruning\n",
    "    model = DecisionTreeClassifier(criterion = 'entropy')\n",
    "    std_accc = holdoutDT(X, Y, model)\n",
    "\n",
    "    print(\"\\n***Decision Tree with Holdout, Entropy, Without pruning***\")\n",
    "    print(\"STD  ACC :\",std_accc)\n",
    "    \n",
    "    # Decision Tree with Holdout, Entropy, With pruning\n",
    "    model = DecisionTreeClassifier(criterion = 'entropy', ccp_alpha=0.015)\n",
    "    std_accc = holdoutDT(X, Y, model)\n",
    "\n",
    "    print(\"\\n***Decision Tree with Holdout, Entropy, With pruning***\")\n",
    "    print(\"STD  ACC :\",std_accc)"
   ]
  },
  {
   "cell_type": "markdown",
   "metadata": {},
   "source": [
    "### 1. Data_for_UCI_named (DF1)"
   ]
  },
  {
   "cell_type": "code",
   "execution_count": 6,
   "metadata": {
    "scrolled": true
   },
   "outputs": [
    {
     "name": "stdout",
     "output_type": "stream",
     "text": [
      "***Decision Tree with 10 Fold CV, Gini, Without pruning***\n",
      "STD  ACC : 0.009669663903156106\n",
      "\n",
      "***Decision Tree with 10 Fold CV, Gini, With pruning***\n",
      "STD  ACC : 0.013569742075662286\n",
      "\n",
      "***Decision Tree with 10 Fold CV, Entropy, Without pruning***\n",
      "STD  ACC : 0.006564106946112311\n",
      "\n",
      "***Decision Tree with 10 Fold CV, Entropy, With pruning***\n",
      "STD  ACC : 0.01766713049705581\n",
      "\n",
      "***Decision Tree with Holdout, Gini, Without pruning***\n",
      "STD  ACC : 0.007422132068647417\n",
      "\n",
      "***Decision Tree with Holdout, Gini, With pruning***\n",
      "STD  ACC : 0.011098974427096097\n",
      "\n",
      "***Decision Tree with Holdout, Entropy, Without pruning***\n",
      "STD  ACC : 0.006297763271370404\n",
      "\n",
      "***Decision Tree with Holdout, Entropy, With pruning***\n",
      "STD  ACC : 0.01523683402518749\n"
     ]
    }
   ],
   "source": [
    "DF1 = pd.read_csv(DATASET_PATH_1);\n",
    "\n",
    "DF1.drop(['stab'],axis=1,inplace=True)\n",
    "\n",
    "# Separate class/label from DF1\n",
    "Y = DF1[['stabf']].values\n",
    "DF1.drop(['stabf'],axis=1,inplace=True)\n",
    "X = DF1.values\n",
    "ALLINONE(X,Y)"
   ]
  },
  {
   "cell_type": "markdown",
   "metadata": {},
   "source": [
    "### 2. HCVDAT0 (DF2)"
   ]
  },
  {
   "cell_type": "code",
   "execution_count": 7,
   "metadata": {},
   "outputs": [
    {
     "name": "stdout",
     "output_type": "stream",
     "text": [
      "***Decision Tree with 10 Fold CV, Gini, Without pruning***\n",
      "STD  ACC : 0.035446690108861166\n",
      "\n",
      "***Decision Tree with 10 Fold CV, Gini, With pruning***\n",
      "STD  ACC : 0.03625686276028305\n",
      "\n",
      "***Decision Tree with 10 Fold CV, Entropy, Without pruning***\n",
      "STD  ACC : 0.021300589675544934\n",
      "\n",
      "***Decision Tree with 10 Fold CV, Entropy, With pruning***\n",
      "STD  ACC : 0.033930773547996076\n",
      "\n",
      "***Decision Tree with Holdout, Gini, Without pruning***\n",
      "STD  ACC : 0.020058278858540765\n",
      "\n",
      "***Decision Tree with Holdout, Gini, With pruning***\n",
      "STD  ACC : 0.022240862241616175\n",
      "\n",
      "***Decision Tree with Holdout, Entropy, Without pruning***\n",
      "STD  ACC : 0.02072259294322801\n",
      "\n",
      "***Decision Tree with Holdout, Entropy, With pruning***\n",
      "STD  ACC : 0.022472188801712444\n"
     ]
    }
   ],
   "source": [
    "DF2 = pd.read_csv(DATASET_PATH_2,index_col=0);\n",
    "DF2['Sex'].replace(['f','m'],[0,1],inplace=True)\n",
    "DF2.fillna(DF2.mean(),inplace=True)\n",
    "\n",
    "# # Separate class/label from DF1\n",
    "Y = DF2[['Category']].values\n",
    "DF2.drop(['Category'],axis=1,inplace=True)\n",
    "X = DF2.values\n",
    "ALLINONE(X,Y)"
   ]
  },
  {
   "cell_type": "markdown",
   "metadata": {},
   "source": [
    "### 3.FERTILITY DIAGONSIS (DF3)"
   ]
  },
  {
   "cell_type": "code",
   "execution_count": 8,
   "metadata": {},
   "outputs": [
    {
     "name": "stdout",
     "output_type": "stream",
     "text": [
      "***Decision Tree with 10 Fold CV, Gini, Without pruning***\n",
      "STD  ACC : 0.10618851161966629\n",
      "\n",
      "***Decision Tree with 10 Fold CV, Gini, With pruning***\n",
      "STD  ACC : 0.10862780491200216\n",
      "\n",
      "***Decision Tree with 10 Fold CV, Entropy, Without pruning***\n",
      "STD  ACC : 0.05812247605033895\n",
      "\n",
      "***Decision Tree with 10 Fold CV, Entropy, With pruning***\n",
      "STD  ACC : 0.11339753083731587\n",
      "\n",
      "***Decision Tree with Holdout, Gini, Without pruning***\n",
      "STD  ACC : 0.0706131873110273\n",
      "\n",
      "***Decision Tree with Holdout, Gini, With pruning***\n",
      "STD  ACC : 0.0686569572423493\n",
      "\n",
      "***Decision Tree with Holdout, Entropy, Without pruning***\n",
      "STD  ACC : 0.06410408203330997\n",
      "\n",
      "***Decision Tree with Holdout, Entropy, With pruning***\n",
      "STD  ACC : 0.06936137253543936\n"
     ]
    }
   ],
   "source": [
    "DF3 = pd.read_csv(DATASET_PATH_3,header=None);\n",
    "\n",
    "DF3.head()\n",
    "\n",
    "\n",
    "# # Separate class/label from DF1\n",
    "Y = DF3[[9]].values\n",
    "DF3.drop([9],axis=1,inplace=True)\n",
    "X = DF3.values\n",
    "ALLINONE(X,Y)"
   ]
  },
  {
   "cell_type": "markdown",
   "metadata": {},
   "source": [
    "### 4. PHISHING DATA (DF4)"
   ]
  },
  {
   "cell_type": "code",
   "execution_count": 9,
   "metadata": {},
   "outputs": [
    {
     "name": "stdout",
     "output_type": "stream",
     "text": [
      "***Decision Tree with 10 Fold CV, Gini, Without pruning***\n",
      "STD  ACC : 0.027082731317334154\n",
      "\n",
      "***Decision Tree with 10 Fold CV, Gini, With pruning***\n",
      "STD  ACC : 0.03080781936142326\n",
      "\n",
      "***Decision Tree with 10 Fold CV, Entropy, Without pruning***\n",
      "STD  ACC : 0.014998442815950811\n",
      "\n",
      "***Decision Tree with 10 Fold CV, Entropy, With pruning***\n",
      "STD  ACC : 0.028767888095846253\n",
      "\n",
      "***Decision Tree with Holdout, Gini, Without pruning***\n",
      "STD  ACC : 0.014630189410426632\n",
      "\n",
      "***Decision Tree with Holdout, Gini, With pruning***\n",
      "STD  ACC : 0.01691176841413255\n",
      "\n",
      "***Decision Tree with Holdout, Entropy, Without pruning***\n",
      "STD  ACC : 0.015318117958809269\n",
      "\n",
      "***Decision Tree with Holdout, Entropy, With pruning***\n",
      "STD  ACC : 0.021141328295327267\n"
     ]
    }
   ],
   "source": [
    "DF4 = pd.read_csv(DATASET_PATH_4,index_col=0);\n",
    "\n",
    "DF4.head()\n",
    "\n",
    "# # Separate class/label from DF1\n",
    "Y = DF4[['Result']].values\n",
    "DF4.drop(['Result'],axis=1,inplace=True)\n",
    "X = DF4.values\n",
    "ALLINONE(X,Y)"
   ]
  },
  {
   "cell_type": "markdown",
   "metadata": {},
   "source": [
    "### 5.LOG2 (DF5)"
   ]
  },
  {
   "cell_type": "code",
   "execution_count": 10,
   "metadata": {},
   "outputs": [
    {
     "name": "stdout",
     "output_type": "stream",
     "text": [
      "***Decision Tree with 10 Fold CV, Gini, Without pruning***\n",
      "STD  ACC : 0.0006195698341441089\n",
      "\n",
      "***Decision Tree with 10 Fold CV, Gini, With pruning***\n",
      "STD  ACC : 0.0010985767467512548\n",
      "\n",
      "***Decision Tree with 10 Fold CV, Entropy, Without pruning***\n",
      "STD  ACC : 0.0003350142363069527\n",
      "\n",
      "***Decision Tree with 10 Fold CV, Entropy, With pruning***\n",
      "STD  ACC : 0.0010171885003022886\n",
      "\n",
      "***Decision Tree with Holdout, Gini, Without pruning***\n",
      "STD  ACC : 0.000344153731962846\n",
      "\n",
      "***Decision Tree with Holdout, Gini, With pruning***\n",
      "STD  ACC : 0.0005568660282897619\n",
      "\n",
      "***Decision Tree with Holdout, Entropy, Without pruning***\n",
      "STD  ACC : 0.00033532145928483377\n",
      "\n",
      "***Decision Tree with Holdout, Entropy, With pruning***\n",
      "STD  ACC : 0.0005568660282897619\n"
     ]
    }
   ],
   "source": [
    "DF5 = pd.read_csv(DATASET_PATH_5);\n",
    "\n",
    "# # Separate class/label from DF1\n",
    "Y = DF5[['Action']].values\n",
    "DF5.drop(['Action'],axis=1,inplace=True)\n",
    "X = DF5.values\n",
    "ALLINONE(X,Y)"
   ]
  }
 ],
 "metadata": {
  "anaconda-cloud": {},
  "kernelspec": {
   "display_name": "Python 3",
   "language": "python",
   "name": "python3"
  },
  "language_info": {
   "codemirror_mode": {
    "name": "ipython",
    "version": 3
   },
   "file_extension": ".py",
   "mimetype": "text/x-python",
   "name": "python",
   "nbconvert_exporter": "python",
   "pygments_lexer": "ipython3",
   "version": "3.7.4"
  }
 },
 "nbformat": 4,
 "nbformat_minor": 2
}
