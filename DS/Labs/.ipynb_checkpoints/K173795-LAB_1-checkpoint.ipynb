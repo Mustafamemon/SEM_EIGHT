{
 "cells": [
  {
   "cell_type": "markdown",
   "metadata": {},
   "source": [
    "## LAB - 1 "
   ]
  },
  {
   "cell_type": "markdown",
   "metadata": {},
   "source": [
    "### Imports"
   ]
  },
  {
   "cell_type": "code",
   "execution_count": 1,
   "metadata": {},
   "outputs": [],
   "source": [
    "import math\n",
    "import random"
   ]
  },
  {
   "cell_type": "markdown",
   "metadata": {},
   "source": [
    "### Question # 2"
   ]
  },
  {
   "cell_type": "code",
   "execution_count": 12,
   "metadata": {},
   "outputs": [],
   "source": [
    "def determinante(a,b,c):\n",
    "    d = (b*b) - (4*a*c)\n",
    "    if d > 0 :\n",
    "        D1 = ( - b + math.sqrt(d) )/2*a\n",
    "        D2 = ( - b - math.sqrt(d)) /2*a\n",
    "        print('Real Roots : ',D1,' - ' , D2)\n",
    "    elif d < 0 :\n",
    "        print(\"Only complex roots!\")\n",
    "    else:\n",
    "        D = - b /2*a\n",
    "        print('Real Root :', D)"
   ]
  },
  {
   "cell_type": "markdown",
   "metadata": {},
   "source": [
    "### Question # 3"
   ]
  },
  {
   "cell_type": "code",
   "execution_count": 3,
   "metadata": {},
   "outputs": [],
   "source": [
    "def smaller(x,s,n):\n",
    "    cnt = 0\n",
    "    for i in range(0,s):\n",
    "        if x[i] > n:\n",
    "            cnt = cnt + 1\n",
    "    print('Count of number strickly less than n: ',s-cnt - 1)"
   ]
  },
  {
   "cell_type": "markdown",
   "metadata": {},
   "source": [
    "### Question # 4"
   ]
  },
  {
   "cell_type": "code",
   "execution_count": 4,
   "metadata": {},
   "outputs": [],
   "source": [
    "def removeDup(dup_list):\n",
    "    seen = set()\n",
    "    seen_add = seen.add\n",
    "    print([x for x in dup_list if not (x in seen or seen_add(x))])"
   ]
  },
  {
   "cell_type": "markdown",
   "metadata": {},
   "source": [
    "### Question # 5"
   ]
  },
  {
   "cell_type": "code",
   "execution_count": 5,
   "metadata": {},
   "outputs": [],
   "source": [
    "def intersectionList(list_1,list_2):\n",
    "    print(list(set(list_1) & set(list_2)))"
   ]
  },
  {
   "cell_type": "markdown",
   "metadata": {},
   "source": [
    "### Question # 6"
   ]
  },
  {
   "cell_type": "code",
   "execution_count": 6,
   "metadata": {},
   "outputs": [],
   "source": [
    "def calculateBMI(weight,height):\n",
    "    BMI = weight / (height*height)\n",
    "    print(BMI)"
   ]
  },
  {
   "cell_type": "markdown",
   "metadata": {},
   "source": [
    "### Question # 7"
   ]
  },
  {
   "cell_type": "code",
   "execution_count": 7,
   "metadata": {},
   "outputs": [],
   "source": [
    "def growthMultiplier(money):\n",
    "    sales = money * math.pow(1.3,7)\n",
    "    print(sales)"
   ]
  },
  {
   "cell_type": "markdown",
   "metadata": {},
   "source": [
    "### Question # 8"
   ]
  },
  {
   "cell_type": "code",
   "execution_count": 8,
   "metadata": {},
   "outputs": [],
   "source": [
    "def calculateWeight(kg):\n",
    "    print((kg*2.2)/14)"
   ]
  },
  {
   "cell_type": "markdown",
   "metadata": {},
   "source": [
    "### Question # 9"
   ]
  },
  {
   "cell_type": "code",
   "execution_count": 9,
   "metadata": {},
   "outputs": [],
   "source": [
    "def generateList():\n",
    "    stringList = []\n",
    "    stringList.append(\"hall 11.3\")\n",
    "    stringList.append(\"kitchen 6\")\n",
    "    stringList.append(\"bedroom 12.5\")\n",
    "    print(stringList)"
   ]
  },
  {
   "cell_type": "markdown",
   "metadata": {},
   "source": [
    "### Question # 10"
   ]
  },
  {
   "cell_type": "code",
   "execution_count": 10,
   "metadata": {},
   "outputs": [],
   "source": [
    "def studentGpa():\n",
    "    std_gpa = [[2.67,3.67,3.33,4.0,3.0],\n",
    "               [367,3.67,3.33,4.0,40],\n",
    "               [3.7,3.67,3.67,4.0,3.0]\n",
    "              ]\n",
    "    students = ['Mustafa',std_gpa[0],'Noman,',std_gpa[1],'Hassan',std_gpa[2]]\n",
    "    print(students)\n"
   ]
  },
  {
   "cell_type": "markdown",
   "metadata": {},
   "source": [
    "## RUN ALL TASK HERE "
   ]
  },
  {
   "cell_type": "code",
   "execution_count": 23,
   "metadata": {},
   "outputs": [
    {
     "data": {
      "text/markdown": [
       "**Question # 2**"
      ],
      "text/plain": [
       "<IPython.core.display.Markdown object>"
      ]
     },
     "metadata": {},
     "output_type": "display_data"
    },
    {
     "name": "stdout",
     "output_type": "stream",
     "text": [
      "Real Roots :  -0.6972243622680054  -  -4.302775637731995\n"
     ]
    },
    {
     "data": {
      "text/markdown": [
       "\n",
       "**Question # 3**"
      ],
      "text/plain": [
       "<IPython.core.display.Markdown object>"
      ]
     },
     "metadata": {},
     "output_type": "display_data"
    },
    {
     "name": "stdout",
     "output_type": "stream",
     "text": [
      "Count of number strickly less than n:  3\n"
     ]
    },
    {
     "data": {
      "text/markdown": [
       "\n",
       "**Question # 4**"
      ],
      "text/plain": [
       "<IPython.core.display.Markdown object>"
      ]
     },
     "metadata": {},
     "output_type": "display_data"
    },
    {
     "name": "stdout",
     "output_type": "stream",
     "text": [
      "[12, 24, 35, 88, 120, 155]\n"
     ]
    },
    {
     "data": {
      "text/markdown": [
       "\n",
       "**Question # 5**"
      ],
      "text/plain": [
       "<IPython.core.display.Markdown object>"
      ]
     },
     "metadata": {},
     "output_type": "display_data"
    },
    {
     "name": "stdout",
     "output_type": "stream",
     "text": [
      "[35]\n"
     ]
    },
    {
     "data": {
      "text/markdown": [
       "\n",
       "**Question # 6**"
      ],
      "text/plain": [
       "<IPython.core.display.Markdown object>"
      ]
     },
     "metadata": {},
     "output_type": "display_data"
    },
    {
     "name": "stdout",
     "output_type": "stream",
     "text": [
      "1.9132653061224492\n"
     ]
    },
    {
     "data": {
      "text/markdown": [
       "\n",
       "**Question # 7**"
      ],
      "text/plain": [
       "<IPython.core.display.Markdown object>"
      ]
     },
     "metadata": {},
     "output_type": "display_data"
    },
    {
     "name": "stdout",
     "output_type": "stream",
     "text": [
      "125.49703400000004\n"
     ]
    },
    {
     "data": {
      "text/markdown": [
       "\n",
       "**Question # 8**"
      ],
      "text/plain": [
       "<IPython.core.display.Markdown object>"
      ]
     },
     "metadata": {},
     "output_type": "display_data"
    },
    {
     "name": "stdout",
     "output_type": "stream",
     "text": [
      "0.34571428571428575\n"
     ]
    },
    {
     "data": {
      "text/markdown": [
       "\n",
       "**Question # 9**"
      ],
      "text/plain": [
       "<IPython.core.display.Markdown object>"
      ]
     },
     "metadata": {},
     "output_type": "display_data"
    },
    {
     "name": "stdout",
     "output_type": "stream",
     "text": [
      "['hall 11.3', 'kitchen 6', 'bedroom 12.5']\n"
     ]
    },
    {
     "data": {
      "text/markdown": [
       "\n",
       "**Question # 10**"
      ],
      "text/plain": [
       "<IPython.core.display.Markdown object>"
      ]
     },
     "metadata": {},
     "output_type": "display_data"
    },
    {
     "name": "stdout",
     "output_type": "stream",
     "text": [
      "['Mustafa', [2.67, 3.67, 3.33, 4.0, 3.0], 'Noman,', [367, 3.67, 3.33, 4.0, 40], 'Hassan', [3.7, 3.67, 3.67, 4.0, 3.0]]\n"
     ]
    }
   ],
   "source": [
    "from IPython.display import Markdown, display\n",
    "\n",
    "display(Markdown('**Question # 2**'))\n",
    "determinante(1,5,3)\n",
    "\n",
    "display(Markdown('\\n**Question # 3**'))\n",
    "smaller([13, 56, 21, 45, 20, 43, 12, 43, 6],9,20)\n",
    "\n",
    "display(Markdown('\\n**Question # 4**'))\n",
    "removeDup([12,24,35,24,88,120,155,88,120,155])\n",
    "\n",
    "display(Markdown('\\n**Question # 5**'))\n",
    "intersectionList([1,3,6,78,35,55],[12,24,35,24,88,120,155])\n",
    "\n",
    "display(Markdown('\\n**Question # 6**'))\n",
    "calculateBMI(60,5.6)\n",
    "\n",
    "display(Markdown('\\n**Question # 7**'))\n",
    "growthMultiplier(20)\n",
    "\n",
    "display(Markdown('\\n**Question # 8**'))\n",
    "calculateWeight(2.2)\n",
    "\n",
    "display(Markdown('\\n**Question # 9**'))\n",
    "generateList()\n",
    "\n",
    "display(Markdown('\\n**Question # 10**'))\n",
    "studentGpa()"
   ]
  }
 ],
 "metadata": {
  "anaconda-cloud": {},
  "kernelspec": {
   "display_name": "Python 3",
   "language": "python",
   "name": "python3"
  },
  "language_info": {
   "codemirror_mode": {
    "name": "ipython",
    "version": 3
   },
   "file_extension": ".py",
   "mimetype": "text/x-python",
   "name": "python",
   "nbconvert_exporter": "python",
   "pygments_lexer": "ipython3",
   "version": "3.7.4"
  }
 },
 "nbformat": 4,
 "nbformat_minor": 2
}
