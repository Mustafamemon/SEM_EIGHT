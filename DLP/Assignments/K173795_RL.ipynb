{
  "nbformat": 4,
  "nbformat_minor": 0,
  "metadata": {
    "colab": {
      "name": "K173795_RL.ipynb",
      "provenance": [],
      "collapsed_sections": [
        "jrI6q7RmWQam"
      ]
    },
    "kernelspec": {
      "name": "python3",
      "display_name": "Python 3"
    },
    "accelerator": "GPU"
  },
  "cells": [
    {
      "cell_type": "markdown",
      "metadata": {
        "id": "jrI6q7RmWQam"
      },
      "source": [
        "<table align=\"center\">\n",
        "  <td align=\"center\"><a target=\"_blank\" href=\"http://introtodeeplearning.com\">\n",
        "        <img src=\"https://i.ibb.co/Jr88sn2/mit.png\" style=\"padding-bottom:5px;\" />\n",
        "      Visit MIT Deep Learning</a></td>\n",
        "  <td align=\"center\"><a target=\"_blank\" href=\"https://colab.research.google.com/github/aamini/introtodeeplearning/blob/master/lab3/RL.ipynb\">\n",
        "        <img src=\"https://i.ibb.co/2P3SLwK/colab.png\"  style=\"padding-bottom:5px;\" />Run in Google Colab</a></td>\n",
        "  <td align=\"center\"><a target=\"_blank\" href=\"https://github.com/aamini/introtodeeplearning/blob/master/lab3/RL.ipynb\">\n",
        "        <img src=\"https://i.ibb.co/xfJbPmL/github.png\"  height=\"70px\" style=\"padding-bottom:5px;\"  />View Source on GitHub</a></td>\n",
        "</table>\n",
        "\n",
        "# Copyright Information"
      ]
    },
    {
      "cell_type": "code",
      "metadata": {
        "id": "wkd375upWYok"
      },
      "source": [
        "# Copyright 2021 MIT 6.S191 Introduction to Deep Learning. All Rights Reserved.\n",
        "# \n",
        "# Licensed under the MIT License. You may not use this file except in compliance\n",
        "# with the License. Use and/or modification of this code outside of 6.S191 must\n",
        "# reference:\n",
        "#\n",
        "# © MIT 6.S191: Introduction to Deep Learning\n",
        "# http://introtodeeplearning.com\n",
        "#"
      ],
      "execution_count": 15,
      "outputs": []
    },
    {
      "cell_type": "markdown",
      "metadata": {
        "id": "WoXYKhfZMHiw"
      },
      "source": [
        "# Laboratory 3: Reinforcement Learning\n",
        "\n",
        "Reinforcement learning (RL) is a subset of machine learning which poses learning problems as interactions between agents and environments. It often assumes agents have no prior knowledge of a world, so they must learn to navigate environments by optimizing a reward function. Within an environment, an agent can take certain actions and receive feedback, in the form of positive or negative rewards, with respect to their decision. As such, an agent's feedback loop is somewhat akin to the idea of \"trial and error\", or the manner in which a child might learn to distinguish between \"good\" and \"bad\" actions.\n",
        "\n",
        "In practical terms, our RL agent will interact with the environment by taking an action at each timestep, receiving a corresponding reward, and updating its state according to what it has \"learned\".  \n",
        "\n",
        "![alt text](https://www.kdnuggets.com/images/reinforcement-learning-fig1-700.jpg)\n",
        "\n",
        "While the ultimate goal of reinforcement learning is to teach agents to act in the real, physical world, games provide a convenient proving ground for developing RL algorithms and agents. Games have some properties that make them particularly well suited for RL: \n",
        "\n",
        "1.   In many cases, games have perfectly describable environments. For example, all rules of chess can be formally written and programmed into a chess game simulator;\n",
        "2.   Games are massively parallelizable. Since they do not require running in the real world, simultaneous environments can be run on large data clusters; \n",
        "3.   Simpler scenarios in games enable fast prototyping. This speeds up the development of algorithms that could eventually run in the real-world; and\n",
        "4.   ... Games are fun! \n",
        "\n",
        "In previous labs, we have explored both supervised (with LSTMs, CNNs) and unsupervised / semi-supervised (with VAEs) learning tasks. Reinforcement learning is fundamentally different, in that we are training a deep learning algorithm to govern the actions of our RL agent, that is trying, within its environment, to find the optimal way to achieve a goal. The goal of training an RL agent is to determine the best next step to take to earn the greatest final payoff or return. In this lab, we focus on building a reinforcement learning algorithm to master two different environments with varying complexity. \n",
        "\n",
        "1.   **Cartpole**:   Balance a pole, protruding from a cart, in an upright position by only moving the base left or right. Environment with a low-dimensional observation space.\n",
        "2.   [**Pong**](https://en.wikipedia.org/wiki/Pong): Beat your competitors (whether other AI or humans!) at the game of Pong. Environment with a high-dimensional observation space -- learning directly from raw pixels.\n",
        "\n",
        "Let's get started! First we'll import TensorFlow, the course package, and some dependencies.\n"
      ]
    },
    {
      "cell_type": "code",
      "metadata": {
        "id": "EvdePP-VyVWp",
        "colab": {
          "base_uri": "https://localhost:8080/"
        },
        "outputId": "17602a82-5172-4b4b-b28b-23868e59f5ed"
      },
      "source": [
        "#Install some dependencies for visualizing the agents\n",
        "!apt-get install -y xvfb python-opengl x11-utils > /dev/null 2>&1\n",
        "!pip install gym pyvirtualdisplay scikit-video > /dev/null 2>&1\n",
        "\n",
        "# Import Tensorflow 2.0\n",
        "%tensorflow_version 2.x\n",
        "import tensorflow as tf\n",
        "\n",
        "import numpy as np\n",
        "import base64, io, time, gym\n",
        "import IPython, functools\n",
        "import matplotlib.pyplot as plt\n",
        "import time\n",
        "from tqdm import tqdm\n",
        "\n",
        "# Download and import the MIT 6.S191 package\n",
        "!pip install mitdeeplearning\n",
        "import mitdeeplearning as mdl"
      ],
      "execution_count": 16,
      "outputs": [
        {
          "output_type": "stream",
          "text": [
            "Requirement already satisfied: mitdeeplearning in /usr/local/lib/python3.7/dist-packages (0.2.0)\n",
            "Requirement already satisfied: regex in /usr/local/lib/python3.7/dist-packages (from mitdeeplearning) (2019.12.20)\n",
            "Requirement already satisfied: numpy in /usr/local/lib/python3.7/dist-packages (from mitdeeplearning) (1.19.5)\n",
            "Requirement already satisfied: gym in /usr/local/lib/python3.7/dist-packages (from mitdeeplearning) (0.17.3)\n",
            "Requirement already satisfied: tqdm in /usr/local/lib/python3.7/dist-packages (from mitdeeplearning) (4.41.1)\n",
            "Requirement already satisfied: cloudpickle<1.7.0,>=1.2.0 in /usr/local/lib/python3.7/dist-packages (from gym->mitdeeplearning) (1.3.0)\n",
            "Requirement already satisfied: scipy in /usr/local/lib/python3.7/dist-packages (from gym->mitdeeplearning) (1.4.1)\n",
            "Requirement already satisfied: pyglet<=1.5.0,>=1.4.0 in /usr/local/lib/python3.7/dist-packages (from gym->mitdeeplearning) (1.5.0)\n",
            "Requirement already satisfied: future in /usr/local/lib/python3.7/dist-packages (from pyglet<=1.5.0,>=1.4.0->gym->mitdeeplearning) (0.16.0)\n"
          ],
          "name": "stdout"
        }
      ]
    },
    {
      "cell_type": "markdown",
      "metadata": {
        "id": "zmrHSiXKTXTY"
      },
      "source": [
        "Before we dive in, let's take a step back and outline our approach, which is generally applicable to reinforcement learning problems in general:\n",
        "\n",
        "1. **Initialize our environment and our agent**: here we will describe the different observations and actions the agent can make in the environemnt.\n",
        "2. **Define our agent's memory**: this will enable the agent to remember its past actions, observations, and rewards.\n",
        "3. **Define a reward function**: describes the reward associated with an action or sequence of actions.\n",
        "4. **Define the learning algorithm**: this will be used to reinforce the agent's good behaviors and discourage bad behaviors.\n"
      ]
    },
    {
      "cell_type": "markdown",
      "metadata": {
        "id": "UT7YL8KBJIIc"
      },
      "source": [
        "# Part 1: Cartpole\n",
        "\n",
        "## 3.1 Define the Cartpole environment and agent\n",
        "\n",
        "### Environment \n",
        "\n",
        "In order to model the environment for both the Cartpole and Pong tasks, we'll be using a toolkit developed by OpenAI called [OpenAI Gym](https://gym.openai.com/). It provides several pre-defined environments for training and testing reinforcement learning agents, including those for classic physics control tasks, Atari video games, and robotic simulations. To access the Cartpole environment, we can use `env = gym.make(\"CartPole-v0\")`, which we gained access to when we imported the `gym` package. We can instantiate different [environments](https://gym.openai.com/envs/#classic_control) by passing the enivronment name to the `make` function.\n",
        "\n",
        "One issue we might experience when developing RL algorithms is that many aspects of the learning process are inherently random: initializing game states, changes in the environment, and the agent's actions. As such, it can be helpful to set a initial \"seed\" for the environment to ensure some level of reproducibility. Much like you might use `numpy.random.seed`, we can call the comparable function in gym, `seed`, with our defined environment to ensure the environment's random variables are initialized the same each time."
      ]
    },
    {
      "cell_type": "code",
      "metadata": {
        "id": "quv9SC0iIYFm",
        "colab": {
          "base_uri": "https://localhost:8080/"
        },
        "outputId": "2729fb33-45d2-4ed9-81ff-433be30fecb3"
      },
      "source": [
        "### Instantiate the Cartpole environment ###\n",
        "\n",
        "env = gym.make(\"CartPole-v0\")\n",
        "env.seed(1)"
      ],
      "execution_count": 17,
      "outputs": [
        {
          "output_type": "execute_result",
          "data": {
            "text/plain": [
              "[1]"
            ]
          },
          "metadata": {
            "tags": []
          },
          "execution_count": 17
        }
      ]
    },
    {
      "cell_type": "markdown",
      "metadata": {
        "id": "mhEITUcKK455"
      },
      "source": [
        "In Cartpole, a pole is attached by an un-actuated joint to a cart, which moves along a frictionless track. The pole starts upright, and the goal is to prevent it from falling over. The system is controlled by applying a force of +1 or -1 to the cart. A reward of +1 is provided for every timestep that the pole remains upright. The episode ends when the pole is more than 15 degrees from vertical, or the cart moves more than 2.4 units from the center of the track. A visual summary of the cartpole environment is depicted below:\n",
        "\n",
        "<img width=\"400px\" src=\"https://danielpiedrahita.files.wordpress.com/2017/02/cart-pole.png\"></img>\n",
        "\n",
        "Given this setup for the environment and the objective of the game, we can think about: 1) what observations help define the environment's state; 2) what actions the agent can take. \n",
        "\n",
        "First, let's consider the observation space. In this Cartpole environment our observations are:\n",
        "\n",
        "1. Cart position\n",
        "2. Cart velocity\n",
        "3. Pole angle\n",
        "4. Pole rotation rate\n",
        "\n",
        "We can confirm the size of the space by querying the environment's observation space:\n"
      ]
    },
    {
      "cell_type": "code",
      "metadata": {
        "id": "UVJaEcbdIX82",
        "colab": {
          "base_uri": "https://localhost:8080/"
        },
        "outputId": "a895b74a-0312-4226-dd8f-cefa7f145707"
      },
      "source": [
        "n_observations = env.observation_space\n",
        "print(\"Environment has observation space =\", n_observations)"
      ],
      "execution_count": 18,
      "outputs": [
        {
          "output_type": "stream",
          "text": [
            "Environment has observation space = Box(-3.4028234663852886e+38, 3.4028234663852886e+38, (4,), float32)\n"
          ],
          "name": "stdout"
        }
      ]
    },
    {
      "cell_type": "markdown",
      "metadata": {
        "id": "ZibGgjrALgPM"
      },
      "source": [
        "Second, we consider the action space. At every time step, the agent can move either right or left. Again we can confirm the size of the action space by querying the environment:"
      ]
    },
    {
      "cell_type": "code",
      "metadata": {
        "id": "qc9SIPxBIXrm",
        "colab": {
          "base_uri": "https://localhost:8080/"
        },
        "outputId": "4d90f31f-0913-4994-fd58-46e66d14f56d"
      },
      "source": [
        "n_actions = env.action_space.n\n",
        "print(\"Number of possible actions that the agent can choose from =\", n_actions)"
      ],
      "execution_count": 19,
      "outputs": [
        {
          "output_type": "stream",
          "text": [
            "Number of possible actions that the agent can choose from = 2\n"
          ],
          "name": "stdout"
        }
      ]
    },
    {
      "cell_type": "markdown",
      "metadata": {
        "id": "pPfHME8aRKkb"
      },
      "source": [
        "### Cartpole agent\n",
        "\n",
        "Now that we have instantiated the environment and understood the dimensionality of the observation and action spaces, we are ready to define our agent. In deep reinforcement learning, a deep neural network defines the agent. This network will take as input an observation of the environment and output the probability of taking each of the possible actions. Since Cartpole is defined by a low-dimensional observation space, a simple feed-forward neural network should work well for our agent. We will define this using the `Sequential` API.\n"
      ]
    },
    {
      "cell_type": "code",
      "metadata": {
        "id": "W-o_XK4oQ4eu"
      },
      "source": [
        "### Define the Cartpole agent ###\n",
        "\n",
        "# Defines a feed-forward neural network\n",
        "def create_cartpole_model():\n",
        "  model = tf.keras.models.Sequential([\n",
        "      # First Dense layer\n",
        "      tf.keras.layers.Dense(units=32, activation='relu'),\n",
        "      tf.keras.layers.Dense(units=n_actions, activation=None) # TODO\n",
        "      \n",
        "      # [TODO: Dense layer]\n",
        "  ])\n",
        "  return model\n",
        "\n",
        "cartpole_model = create_cartpole_model()"
      ],
      "execution_count": 20,
      "outputs": []
    },
    {
      "cell_type": "markdown",
      "metadata": {
        "id": "d5D5NSIYS2IW"
      },
      "source": [
        "Now that we have defined the core network architecture, we will define an *action function* that executes a forward pass through the network, given a set of observations, and samples from the output. This sampling from the output probabilities will be used to select the next action for the agent. We will also add support so that the `choose_action` function can handle either a single observation or a batch of observations.\n",
        "\n",
        "**Critically, this action function is totally general -- we will use this function for both Cartpole and Pong, and it is applicable to other RL tasks, as well!**"
      ]
    },
    {
      "cell_type": "code",
      "metadata": {
        "id": "E_vVZRr8Q4R_"
      },
      "source": [
        "### Define the agent's action function ###\n",
        "\n",
        "# Function that takes observations as input, executes a forward pass through model, \n",
        "#   and outputs a sampled action.\n",
        "# Arguments:\n",
        "#   model: the network that defines our agent\n",
        "#   observation: observation(s) which is/are fed as input to the model\n",
        "#   single: flag as to whether we are handling a single observation or batch of\n",
        "#     observations, provided as an np.array\n",
        "# Returns:\n",
        "#   action: choice of agent action\n",
        "def choose_action(model, observation, single=True):\n",
        "  # add batch dimension to the observation if only a single example was provided\n",
        "  observation = np.expand_dims(observation, axis=0) if single else observation\n",
        "\n",
        "  '''TODO: feed the observations through the model to predict the log \n",
        "  probabilities of each possible action.'''\n",
        "  logits = model.predict(observation) # TODO\n",
        "  \n",
        "  '''TODO: Choose an action from the categorical distribution defined by the log \n",
        "      probabilities of each possible action.'''\n",
        "  action = tf.random.categorical(logits, num_samples=1)\n",
        "\n",
        "  action = action.numpy().flatten()\n",
        "\n",
        "  return action[0] if single else action"
      ],
      "execution_count": 21,
      "outputs": []
    },
    {
      "cell_type": "markdown",
      "metadata": {
        "id": "_tR9uAWcTnkr"
      },
      "source": [
        "## 3.2 Define the agent's memory\n",
        "\n",
        "Now that we have instantiated the environment and defined the agent network architecture and action function, we are ready to move on to the next step in our RL workflow:\n",
        "1. **Initialize our environment and our agent**: here we will describe the different observations and actions the agent can make in the environemnt.\n",
        "2. **Define our agent's memory**: this will enable the agent to remember its past actions, observations, and rewards.\n",
        "3. **Define the learning algorithm**: this will be used to reinforce the agent's good behaviors and discourage bad behaviors.\n",
        "\n",
        "In reinforcement learning, training occurs alongside the agent's acting in the environment; an *episode* refers to a sequence of actions that ends in some terminal state, such as the pole falling down or the cart crashing. The agent will need to remember all of its observations and actions, such that once an episode ends, it can learn to \"reinforce\" the good actions and punish the undesirable actions via training. Our first step is to define a simple `Memory` buffer that contains the agent's observations, actions, and received rewards from a given episode. We will also add support to combine a list of `Memory` objects into a single `Memory`. This will be very useful for batching, which will help you accelerate training later on in the lab.\n",
        "\n",
        "**Once again, note the modularity of this memory buffer -- it can and will be applied to other RL tasks as well!**"
      ]
    },
    {
      "cell_type": "code",
      "metadata": {
        "id": "8MM6JwXVQ4JG"
      },
      "source": [
        "### Agent Memory ###\n",
        "\n",
        "class Memory:\n",
        "  def __init__(self): \n",
        "      self.clear()\n",
        "\n",
        "  # Resets/restarts the memory buffer\n",
        "  def clear(self): \n",
        "      self.observations = []\n",
        "      self.actions = []\n",
        "      self.rewards = []\n",
        "\n",
        "  # Add observations, actions, rewards to memory\n",
        "  def add_to_memory(self, new_observation, new_action, new_reward): \n",
        "      self.observations.append(new_observation)\n",
        "      '''TODO: update the list of actions with new action'''\n",
        "      self.actions.append(new_action) # TODO\n",
        "      '''TODO: update the list of rewards with new reward'''\n",
        "      self.rewards.append(new_reward) # TODO\n",
        "\n",
        "# Helper function to combine a list of Memory objects into a single Memory.\n",
        "#     This will be very useful for batching.\n",
        "def aggregate_memories(memories):\n",
        "  batch_memory = Memory()\n",
        "  \n",
        "  for memory in memories:\n",
        "    for step in zip(memory.observations, memory.actions, memory.rewards):\n",
        "      batch_memory.add_to_memory(*step)\n",
        "  \n",
        "  return batch_memory\n",
        "\n",
        "# Instantiate a single Memory buffer\n",
        "memory = Memory()"
      ],
      "execution_count": 22,
      "outputs": []
    },
    {
      "cell_type": "markdown",
      "metadata": {
        "id": "D4YhtPaUVj5m"
      },
      "source": [
        "## 3.3 Reward function\n",
        "\n",
        "We're almost ready to begin the learning algorithm for our agent! The next step is to compute the rewards of our agent as it acts in the environment. Since we (and the agent) is uncertain about if and when the game or task will end (i.e., when the pole will fall), it is useful to emphasize getting rewards **now** rather than later in the future -- this is the idea of discounting. This is a similar concept to discounting money in the case of interest. ecall from lecture, we use reward discount to give more preference at getting rewards now rather than later in the future. The idea of discounting rewards is similar to discounting money in the case of interest.\n",
        "\n",
        "To compute the expected cumulative reward, known as the **return**, at a given timestep in a learning episode, we sum the discounted rewards expected at that time step $t$, within a learning episode, and projecting into the future. We define the return (cumulative reward) at a time step $t$, $R_{t}$ as:\n",
        "\n",
        ">$R_{t}=\\sum_{k=0}^\\infty\\gamma^kr_{t+k}$\n",
        "\n",
        "where  $0 < \\gamma < 1$ is the discount factor and $r_{t}$ is the reward at time step $t$, and the index $k$ increments projection into the future within a single learning episode. Intuitively, you can think of this function as depreciating any rewards received at later time steps, which will force the agent prioritize getting rewards now. Since we can't extend episodes to infinity, in practice the computation will be limited to the number of timesteps in an episode -- after that the reward is assumed to be zero.\n",
        "\n",
        "Take note of the form of this sum -- we'll have to be clever about how we implement this function. Specifically, we'll need to initialize an array of zeros, with length of the number of time steps, and fill it with the real discounted reward values as we loop through the rewards from the episode, which will have been saved in the agents memory. What we ultimately care about is which actions are better relative to other actions taken in that episode -- so, we'll normalize our computed rewards, using the mean and standard deviation of the rewards across the learning episode.\n"
      ]
    },
    {
      "cell_type": "code",
      "metadata": {
        "id": "5_Q2OFYtQ32X"
      },
      "source": [
        "### Reward function ###\n",
        "\n",
        "# Helper function that normalizes an np.array x\n",
        "def normalize(x):\n",
        "  x -= np.mean(x)\n",
        "  x /= np.std(x)\n",
        "  return x.astype(np.float32)\n",
        "\n",
        "# Compute normalized, discounted, cumulative rewards (i.e., return)\n",
        "# Arguments:\n",
        "#   rewards: reward at timesteps in episode\n",
        "#   gamma: discounting factor\n",
        "# Returns:\n",
        "#   normalized discounted reward\n",
        "def discount_rewards(rewards, gamma=0.95): \n",
        "  discounted_rewards = np.zeros_like(rewards)\n",
        "  R = 0\n",
        "  for t in reversed(range(0, len(rewards))):\n",
        "      # update the total discounted reward\n",
        "      R = R * gamma + rewards[t]\n",
        "      discounted_rewards[t] = R\n",
        "      \n",
        "  return normalize(discounted_rewards)"
      ],
      "execution_count": 23,
      "outputs": []
    },
    {
      "cell_type": "markdown",
      "metadata": {
        "id": "QzbY-mjGYcmt"
      },
      "source": [
        "## 3.4 Learning algorithm\n",
        "\n",
        "Now we can start to define the learing algorithm which will be used to reinforce good behaviors of the agent and discourage bad behaviours. In this lab, we will focus on *policy gradient* methods which aim to **maximize** the likelihood of actions that result in large rewards. Equivalently, this means that we want to **minimize** the negative likelihood of these same actions. We achieve this by simply **scaling** the probabilities by their associated rewards -- effectively amplifying the likelihood of actions that resujlt in large rewards.\n",
        "\n",
        "Since the log function is monotonically increasing, this means that minimizing **negative likelihood** is equivalent to minimizing **negative log-likelihood**.  Recall that we can easily compute the negative log-likelihood of a discrete action by evaluting its [softmax cross entropy](https://www.tensorflow.org/api_docs/python/tf/nn/sparse_softmax_cross_entropy_with_logits). Like in supervised learning, we can use stochastic gradient descent methods to achieve the desired minimization. \n",
        "\n",
        "Let's begin by defining the loss function."
      ]
    },
    {
      "cell_type": "code",
      "metadata": {
        "id": "fsgZ3IDCY_Zn"
      },
      "source": [
        "### Loss function ###\n",
        "\n",
        "# Arguments:\n",
        "#   logits: network's predictions for actions to take\n",
        "#   actions: the actions the agent took in an episode\n",
        "#   rewards: the rewards the agent received in an episode\n",
        "# Returns:\n",
        "#   loss\n",
        "def compute_loss(logits, actions, rewards): \n",
        "  '''TODO: complete the function call to compute the negative log probabilities'''\n",
        "  neg_logprob = tf.nn.sparse_softmax_cross_entropy_with_logits(\n",
        "      logits=logits, labels=actions) # TODO\n",
        "  \n",
        "  '''TODO: scale the negative log probability by the rewards'''\n",
        "  loss = tf.reduce_mean( neg_logprob * rewards ) # TODO\n",
        "  \n",
        "  return loss"
      ],
      "execution_count": 24,
      "outputs": []
    },
    {
      "cell_type": "markdown",
      "metadata": {
        "id": "Rr5vQ9fqbPpp"
      },
      "source": [
        "Now let's use the loss function to define a training step of our learning algorithm:"
      ]
    },
    {
      "cell_type": "code",
      "metadata": {
        "id": "_50ada7nbZ7L"
      },
      "source": [
        "### Training step (forward and backpropagation) ###\n",
        "\n",
        "def train_step(model, optimizer, observations, actions, discounted_rewards):\n",
        "  with tf.GradientTape() as tape:\n",
        "      # Forward propagate through the agent network\n",
        "      logits = model(observations)\n",
        "\n",
        "      '''TODO: call the compute_loss function to compute the loss'''\n",
        "      loss = compute_loss(logits, actions, discounted_rewards) # TODO\n",
        "\n",
        "  '''TODO: run backpropagation to minimize the loss using the tape.gradient method'''\n",
        "  grads = tape.gradient(loss, model.trainable_variables) # TODO\n",
        "  optimizer.apply_gradients(zip(grads, model.trainable_variables))\n"
      ],
      "execution_count": 25,
      "outputs": []
    },
    {
      "cell_type": "markdown",
      "metadata": {
        "id": "XsjKXh6BcgjR"
      },
      "source": [
        "## 3.5 Run cartpole!\n",
        "\n",
        "Having had no prior knowledge of the environment, the agent will begin to learn how to balance the pole on the cart based only on the feedback received from the environment! Having defined how our agent can move, how it takes in new observations, and how it updates its state, we'll see how it gradually learns a policy of actions to optimize balancing the pole as long as possible. To do this, we'll track how the rewards evolve as a function of training -- how should the rewards change as training progresses?"
      ]
    },
    {
      "cell_type": "code",
      "metadata": {
        "id": "XmOzc2rrcn8Q",
        "colab": {
          "base_uri": "https://localhost:8080/",
          "height": 541
        },
        "outputId": "9330942c-084f-4773-dce7-836a3a5ffebc"
      },
      "source": [
        "### Cartpole training! ###\n",
        "\n",
        "# Learning rate and optimizer\n",
        "learning_rate = 1e-3\n",
        "optimizer = tf.keras.optimizers.Adam(learning_rate)\n",
        "\n",
        "# instantiate cartpole agent\n",
        "cartpole_model = create_cartpole_model()\n",
        "\n",
        "# to track our progress\n",
        "smoothed_reward = mdl.util.LossHistory(smoothing_factor=0.9)\n",
        "plotter = mdl.util.PeriodicPlotter(sec=2, xlabel='Iterations', ylabel='Rewards')\n",
        "\n",
        "if hasattr(tqdm, '_instances'): tqdm._instances.clear() # clear if it exists\n",
        "for i_episode in range(500):\n",
        "\n",
        "  plotter.plot(smoothed_reward.get())\n",
        "\n",
        "  # Restart the environment\n",
        "  observation = env.reset()\n",
        "  memory.clear()\n",
        "\n",
        "  while True:\n",
        "      # using our observation, choose an action and take it in the environment\n",
        "      action = choose_action(cartpole_model, observation)\n",
        "      next_observation, reward, done, info = env.step(action)\n",
        "      # add to memory\n",
        "      memory.add_to_memory(observation, action, reward)\n",
        "      \n",
        "      # is the episode over? did you crash or do so well that you're done?\n",
        "      if done:\n",
        "          # determine total reward and keep a record of this\n",
        "          total_reward = sum(memory.rewards)\n",
        "          smoothed_reward.append(total_reward)\n",
        "          \n",
        "          # initiate training - remember we don't know anything about how the \n",
        "          #   agent is doing until it has crashed!\n",
        "          train_step(cartpole_model, optimizer, \n",
        "                     observations=np.vstack(memory.observations),\n",
        "                     actions=np.array(memory.actions),\n",
        "                     discounted_rewards = discount_rewards(memory.rewards))\n",
        "          \n",
        "          # reset the memory\n",
        "          memory.clear()\n",
        "          break\n",
        "      # update our observatons\n",
        "      observation = next_observation"
      ],
      "execution_count": 26,
      "outputs": [
        {
          "output_type": "display_data",
          "data": {
            "image/png": "[encoded data removed]",
            "text/plain": [
              "<Figure size 432x288 with 1 Axes>"
            ]
          },
          "metadata": {
            "tags": []
          }
        },
        {
          "output_type": "display_data",
          "data": {
            "image/png": "[encoded data removed]",
            "text/plain": [
              "<Figure size 432x288 with 1 Axes>"
            ]
          },
          "metadata": {
            "tags": [],
            "needs_background": "light"
          }
        }
      ]
    },
    {
      "cell_type": "markdown",
      "metadata": {
        "id": "mkcUtGF1VE-K"
      },
      "source": [
        "To get a sense of how our agent did, we can save a video of the trained model working on balancing the pole. Realize that this is a brand new environment that the agent has not seen before!\n",
        "\n",
        "Let's display the saved video to watch how our agent did!\n"
      ]
    },
    {
      "cell_type": "code",
      "metadata": {
        "id": "PAYBkv6Zbk0J",
        "colab": {
          "base_uri": "https://localhost:8080/",
          "height": 438
        },
        "outputId": "0b9ff1c2-fb0d-4ee0-8dcd-7186a51c0dc7"
      },
      "source": [
        "saved_cartpole = mdl.lab3.save_video_of_model(cartpole_model, \"CartPole-v0\")\n",
        "mdl.lab3.play_video(saved_cartpole)"
      ],
      "execution_count": 27,
      "outputs": [
        {
          "output_type": "stream",
          "text": [
            "Successfully saved 200 frames into CartPole-v0.mp4!\n"
          ],
          "name": "stdout"
        },
        {
          "output_type": "execute_result",
          "data": {
            "text/html": [
              "\n",
              "        <video controls >\n",
              "            <source src=\"data:video/mp4;base64,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\" type=\"video/mp4\" />\n",
              "        </video>"
            ],
            "text/plain": [
              "<IPython.core.display.HTML object>"
            ]
          },
          "metadata": {
            "tags": []
          },
          "execution_count": 27
        }
      ]
    },
    {
      "cell_type": "markdown",
      "metadata": {
        "id": "CSbVNDpaVb3_"
      },
      "source": [
        "How does the agent perform? Could you train it for shorter amounts of time and still perform well? Do you think that training longer would help even more? "
      ]
    },
    {
      "cell_type": "markdown",
      "metadata": {
        "id": "Eu6Mqxc720ST"
      },
      "source": [
        "#Part 2: Pong\n",
        "\n",
        "In Cartpole, we dealt with an environment that was static -- in other words, it didn't change over time. What happens if our environment is dynamic and unpredictable? Well that's exactly the case in [Pong](https://en.wikipedia.org/wiki/Pong), since part of the environment is the opposing player. We don't know how our opponent will act or react to our actions, so the complexity of our problem increases. It also becomes much more interesting, since we can compete to beat our opponent. RL provides a powerful framework for training AI systems with the ability to handle and interact with dynamic, unpredictable environments. In this part of the lab, we'll use the tools and workflow we explored in Part 1 to build an RL agent capable of playing the game of Pong.\n"
      ]
    },
    {
      "cell_type": "markdown",
      "metadata": {
        "id": "srZ4YE29isuA"
      },
      "source": [
        "## 3.6 Define and inspect the Pong environment\n",
        "\n",
        "As with Cartpole, we'll instantiate the Pong environment in the OpenAI gym, using a seed of 1."
      ]
    },
    {
      "cell_type": "code",
      "metadata": {
        "id": "lbYHLr66i15n"
      },
      "source": [
        "def create_pong_env(): \n",
        "  return gym.make(\"Pong-v0\", frameskip=5)\n",
        "env = create_pong_env()\n",
        "env.seed(1); # for reproducibility"
      ],
      "execution_count": 29,
      "outputs": []
    },
    {
      "cell_type": "markdown",
      "metadata": {
        "id": "52uZ2Xhyi-MW"
      },
      "source": [
        "Let's next consider the observation space for the Pong environment. Instead of four physical descriptors of the cart-pole setup, in the case of Pong our observations are the individual video frames (i.e., images) that depict the state of the board. Thus, the observations are 210x160 RGB images (arrays of shape (210,160,3)).\n",
        "\n",
        "We can again confirm the size of the observation space by query:"
      ]
    },
    {
      "cell_type": "code",
      "metadata": {
        "id": "0yX4GWvxjnHS"
      },
      "source": [
        "print(\"Environment has observation space =\", env.observation_space)"
      ],
      "execution_count": null,
      "outputs": []
    },
    {
      "cell_type": "markdown",
      "metadata": {
        "id": "uuEC2TdSjx9D"
      },
      "source": [
        "In Pong, at every time step, the agent (which controls the paddle) has six actions to choose from: no-op (no operation), move right, move left, fire, fire right, and fire left. Let's confirm the size of the action space by querying the environment:"
      ]
    },
    {
      "cell_type": "code",
      "metadata": {
        "id": "Iuy9oPc1kag3"
      },
      "source": [
        "n_actions = env.action_space.n\n",
        "print(\"Number of possible actions that the agent can choose from =\", n_actions)"
      ],
      "execution_count": null,
      "outputs": []
    },
    {
      "cell_type": "markdown",
      "metadata": {
        "id": "9-fghDRigUE5"
      },
      "source": [
        "## 3.7 Define the Pong agent\n",
        "\n",
        "As before, we'll use a neural network to define our agent. What network architecture do you think would be especially well suited to this game? Since our observations are now in the form of images, we'll add convolutional layers to the network to increase the learning capacity of our network. Note that you will be tasked with completing a template CNN architecture for the Pong agent -- but you should certainly experiment beyond this template to try to optimize performance!"
      ]
    },
    {
      "cell_type": "code",
      "metadata": {
        "id": "IJiqbFYpgYRH"
      },
      "source": [
        "### Define the Pong agent ###\n",
        "\n",
        "# Functionally define layers for convenience\n",
        "# All convolutional layers will have ReLu activation\n",
        "Conv2D = functools.partial(tf.keras.layers.Conv2D, padding='same', activation='relu')\n",
        "Flatten = tf.keras.layers.Flatten\n",
        "Dense = tf.keras.layers.Dense\n",
        "\n",
        "# Defines a CNN for the Pong agent\n",
        "def create_pong_model():\n",
        "  model = tf.keras.models.Sequential([\n",
        "    # Convolutional layers\n",
        "    # First, 32 5x5 filters and 2x2 stride\n",
        "    Conv2D(filters=32, kernel_size=5, strides=2),\n",
        "\n",
        "    # '''TODO: define convolutional layers with 48 5x5 filters and 2x2 stride'''\n",
        "    Conv2D(filters=48, kernel_size=5, strides=2), # TODO\n",
        "\n",
        "    # '''TODO: define two convolutional layers with 64 3x3 filters and 2x2 stride'''\n",
        "    Conv2D(filters=64, kernel_size=3, strides=2), # TODO\n",
        "    Conv2D(filters=64, kernel_size=3, strides=2),\n",
        "    Flatten(),\n",
        "    \n",
        "    # Fully connected layer and output\n",
        "    Dense(units=128, activation='relu'),\n",
        "    # '''TODO: define the output dimension of the last Dense layer. \n",
        "    # Pay attention to the space the agent needs to act in'''\n",
        "    Dense(units=n_actions, activation=None) # TODO\n",
        "  \n",
        "  ])\n",
        "  return model\n",
        "\n",
        "pong_model = create_pong_model()"
      ],
      "execution_count": 30,
      "outputs": []
    },
    {
      "cell_type": "markdown",
      "metadata": {
        "id": "yaeZ067olFiJ"
      },
      "source": [
        "Since we've already defined the action function, `choose_action(model, observation)`, we don't need to define it again. Instead, we'll be able to reuse it later on by passing in our new model we've just created, `pong_model`. This is awesome because our action function provides a modular and generalizable method for all sorts of RL agents!"
      ]
    },
    {
      "cell_type": "markdown",
      "metadata": {
        "id": "l0RvqOVkmc2r"
      },
      "source": [
        "## 3.8 Pong-specific functions\n",
        "\n",
        "In Part 1 (Cartpole), we implemented some key functions and classes to build and train our RL agent -- `choose_action(model, observation)` and the `Memory` class, for example. However, in getting ready to apply these to a new game like Pong, we might need to make some slight modifications. \n",
        "\n",
        "Namely, we need to think about what happens when a game ends. In Pong, we know a game has ended if the reward is +1 (we won!) or -1 (we lost unfortunately). Otherwise, we expect the reward at a timestep to be zero -- the players (or agents) are just playing eachother. So, after a game ends, we will need to reset the reward to zero when a game ends. This will result in a modified reward function."
      ]
    },
    {
      "cell_type": "code",
      "metadata": {
        "id": "iEZG2o50luLu"
      },
      "source": [
        "### Pong reward function ###\n",
        "\n",
        "# Compute normalized, discounted rewards for Pong (i.e., return)\n",
        "# Arguments:\n",
        "#   rewards: reward at timesteps in episode\n",
        "#   gamma: discounting factor. Note increase to 0.99 -- rate of depreciation will be slower.\n",
        "# Returns:\n",
        "#   normalized discounted reward\n",
        "def discount_rewards(rewards, gamma=0.99): \n",
        "  discounted_rewards = np.zeros_like(rewards)\n",
        "  R = 0\n",
        "  for t in reversed(range(0, len(rewards))):\n",
        "      # NEW: Reset the sum if the reward is not 0 (the game has ended!)\n",
        "      if rewards[t] != 0:\n",
        "        R = 0\n",
        "      # update the total discounted reward as before\n",
        "      R = R * gamma + rewards[t]\n",
        "      discounted_rewards[t] = R\n",
        "      \n",
        "  return normalize(discounted_rewards)"
      ],
      "execution_count": 31,
      "outputs": []
    },
    {
      "cell_type": "markdown",
      "metadata": {
        "id": "HopLpb4IoOqA"
      },
      "source": [
        "Additionally, we have to consider the nature of the observations in the Pong environment, and how they will be fed into our network. Our observations in this case are images. Before we input an image into our network, we'll do a bit of pre-processing to crop and scale, clean up the background colors to a single color, and set the important game elements to a single color. Let's use this function to visualize what a single observation might look like before and after pre-processing."
      ]
    },
    {
      "cell_type": "code",
      "metadata": {
        "id": "no5IIYtFm8pI"
      },
      "source": [
        "observation = env.reset()\n",
        "for i in range(30):\n",
        "  action = np.random.choice(n_actions)\n",
        "  observation, _,_,_ = env.step(action)\n",
        "observation_pp = mdl.lab3.preprocess_pong(observation)\n",
        "\n",
        "f = plt.figure(figsize=(10,3))\n",
        "ax = f.add_subplot(121)\n",
        "ax2 = f.add_subplot(122)\n",
        "ax.imshow(observation); ax.grid(False);\n",
        "ax2.imshow(np.squeeze(observation_pp)); ax2.grid(False); plt.title('Preprocessed Observation');"
      ],
      "execution_count": null,
      "outputs": []
    },
    {
      "cell_type": "markdown",
      "metadata": {
        "id": "YBLVfdpv7ajG"
      },
      "source": [
        "Let's also consider the fact that, unlike CartPole, the Pong environment has an additional element of uncertainty -- regardless of what action the agent takes, we don't know how the opponent will play. That is, the environment is changing over time, based on *both* the actions we take and the actions of the opponent, which result in motion of the ball and motion of the paddles.\n",
        "\n",
        "Therefore, to capture the dynamics, we also consider how the environment changes by looking at the difference between a previous observation (image frame) and the current observation (image frame). We've implemented a helper function, `pong_change`, that pre-processes two frames, calculates the change between the two, and then re-normalizes the values. Let's inspect this to visualize how the environment can change:"
      ]
    },
    {
      "cell_type": "code",
      "metadata": {
        "id": "ItWrUwM87ZBw"
      },
      "source": [
        "next_observation, _,_,_ = env.step(np.random.choice(n_actions))\n",
        "diff = mdl.lab3.pong_change(observation, next_observation)\n",
        "\n",
        "f, ax = plt.subplots(1, 3, figsize=(15,15))\n",
        "for a in ax:\n",
        "  a.grid(False)\n",
        "  a.axis(\"off\")\n",
        "ax[0].imshow(observation); ax[0].set_title('Previous Frame');\n",
        "ax[1].imshow(next_observation); ax[1].set_title('Current Frame');\n",
        "ax[2].imshow(np.squeeze(diff)); ax[2].set_title('Difference (Model Input)');"
      ],
      "execution_count": null,
      "outputs": []
    },
    {
      "cell_type": "markdown",
      "metadata": {
        "id": "bYwIWC-Cz8F2"
      },
      "source": [
        "What do you notice? How and why might these pre-processing changes be important for training our RL algorithm? How and why might consideration of the difference between frames be important for training and performance?"
      ]
    },
    {
      "cell_type": "markdown",
      "metadata": {
        "id": "YiJLu9SEAJu6"
      },
      "source": [
        "### Rollout function\n",
        "\n",
        "We're now set up to define our key action algorithm for the game of Pong, which will ultimately be used to train our Pong agent. This function can be thought of as a \"rollout\", where the agent will 1) make an observation of the environment, 2) select an action based on its state in the environment, 3) execute a policy based on that action, resulting in some reward and a change to the environment, and 4) finally add memory of that action-reward to its `Memory` buffer. We will define this algorithm in the `collect_rollout` function below, and use it soon within a training block.\n",
        "\n",
        "Earlier you visually inspected the raw environment frames, the pre-processed frames, and the difference between previous and current frames. As you may have gathered, in a dynamic game like Pong, it can actually be helpful to consider the difference between two consecutive observations. This gives us information about the movement between frames -- how the game is changing. We will do this using the `pong_change` function we explored above (which also pre-processes frames for us).\n",
        "\n",
        "We will use differences between frames as the input on which actions will be selected. These observation changes will be forward propagated through our Pong agent, the CNN network model, which will then predict the next action to take based on this observation. The raw reward will be computed. The observation, action, and reward will be recorded into memory. This will loop until a particular game ends -- the rollout is completed.\n",
        "\n",
        "For now, we will define `collect_rollout` such that a batch of observations (i.e., from a batch of agent-environment worlds) can be processed serially (i.e., one at a time, in sequence). We will later utilize a parallelized version of this function that will parallelize batch processing to help speed up training! Let's get to it."
      ]
    },
    {
      "cell_type": "code",
      "metadata": {
        "id": "CH9C4JXUOyv-"
      },
      "source": [
        "### Rollout function ###\n",
        "\n",
        "# Key steps for agent's operation in the environment, until completion of a rollout.\n",
        "# An observation is drawn; the agent (controlled by model) selects an action;\n",
        "#   the agent executes that action in the environment and collects rewards;\n",
        "#   information is added to memory.\n",
        "# This is repeated until the completion of the rollout -- the Pong game ends.\n",
        "# Processes multiple batches serially.\n",
        "#\n",
        "# Arguments:\n",
        "#   batch_size: number of batches, to be processed serially\n",
        "#   env: environment\n",
        "#   model: Pong agent model\n",
        "#   choose_action: choose_action function\n",
        "# Returns:\n",
        "#   memories: array of Memory buffers, of length batch_size, corresponding to the\n",
        "#     episode executions from the rollout\n",
        "def collect_rollout(batch_size, env, model, choose_action):\n",
        "\n",
        "  # Holder array for the Memory buffers\n",
        "  memories = []\n",
        "\n",
        "  # Process batches serially by iterating through them\n",
        "  for b in range(batch_size):\n",
        "\n",
        "    # Instantiate Memory buffer, restart the environment\n",
        "    memory = Memory()\n",
        "    next_observation = env.reset()\n",
        "    previous_frame = next_observation\n",
        "    done = False # tracks whether the episode (game) is done or not\n",
        "\n",
        "    while not done:\n",
        "\n",
        "      current_frame = next_observation\n",
        "\n",
        "      '''TODO: determine the observation change.\n",
        "      Hint: this is the difference between the past two frames'''\n",
        "      frame_diff = mdl.lab3.pong_change(previous_frame, current_frame) # TODO\n",
        "\n",
        "      '''TODO: choose an action for the pong model, using the frame difference, and evaluate'''\n",
        "      action = choose_action(model, frame_diff) # TODO \n",
        "\n",
        "      # Take the chosen action\n",
        "      next_observation, reward, done, info = env.step(action)\n",
        "\n",
        "      '''TODO: save the observed frame difference, the action that was taken, and the resulting reward!'''\n",
        "      memory.add_to_memory(frame_diff, action, reward) # TODO\n",
        "\n",
        "      previous_frame = current_frame\n",
        "    \n",
        "    # Add the memory from this batch to the array of all Memory buffers\n",
        "    memories.append(memory)\n",
        "  \n",
        "  return memories"
      ],
      "execution_count": null,
      "outputs": []
    },
    {
      "cell_type": "markdown",
      "metadata": {
        "id": "NGIJvFUHHbDi"
      },
      "source": [
        "To get a sense of what is encapsulated by `collect_rollout`, we will instantiate an *untrained* Pong model, run a single rollout using this model, save the memory, and play back the observations the model sees. Note that these will be frame *differences*."
      ]
    },
    {
      "cell_type": "code",
      "metadata": {
        "id": "msNBRcULHbrd"
      },
      "source": [
        "### Rollout with untrained Pong model ###\n",
        "\n",
        "# Model\n",
        "test_model = create_pong_model()\n",
        "\n",
        "# Rollout with single batch\n",
        "single_batch_size = 1\n",
        "memories = collect_rollout(single_batch_size, env, test_model, choose_action)\n",
        "rollout_video = mdl.lab3.save_video_of_memory(memories[0], \"Pong-Random-Agent.mp4\")\n",
        "\n",
        "# Play back video of memories\n",
        "mdl.lab3.play_video(rollout_video)"
      ],
      "execution_count": null,
      "outputs": []
    },
    {
      "cell_type": "markdown",
      "metadata": {
        "id": "mRqcaDQ1pm3x"
      },
      "source": [
        "## 3.9 Training Pong\n",
        "\n",
        "We're now all set up to start training our RL algorithm and agent for the game of Pong! We've already defined the following:\n",
        "\n",
        "1. Loss function, `compute_loss`, and backpropagation step, `train_step`. Our loss function employs policy gradient learning. `train_step` executes a single forward pass and backpropagation gradient update.\n",
        "2. RL agent algorithm: `collect_rollout`. Serially processes batches of episodes, executing actions in the environment, collecting rewards, and saving these to `Memory`.\n",
        "\n",
        "We will use these functions to train the Pong agent.\n",
        "\n",
        "In the training block, episodes will be executed by agents in the environment via the RL algorithm defined in the `collect_rollout` function. Since RL agents start off with literally zero knowledge of their environment, it can often take a long time to train them and achieve stable behavior. To alleviate this, we have implemented a parallelized version of the RL algorithm, `parallelized_collect_rollout`, which you can use to accelerate training across multiple parallel batches.\n",
        "\n",
        "For training, information in the `Memory` buffer from all these batches will be aggregated (after all episodes, i.e., games, end). Discounted rewards will be computed, and this information will be used to execute a training step. Memory will be cleared, and we will do it all over again!\n",
        "\n",
        "Let's run the code block to train our Pong agent. Note that, even with parallelization, completing training and getting stable behavior will take quite a bit of time (estimated at least a couple of hours). We will again visualize the evolution of the total reward as a function of training to get a sense of how the agent is learning."
      ]
    },
    {
      "cell_type": "code",
      "metadata": {
        "id": "FaEHTMRVMRXP"
      },
      "source": [
        "### Hyperparameters and setup for training ###\n",
        "# Rerun this cell if you want to re-initialize the training process\n",
        "#   (i.e., create new model, reset loss, etc)\n",
        "\n",
        "# Hyperparameters\n",
        "learning_rate = 1e-3\n",
        "MAX_ITERS = 1000 # increase the maximum to train longer\n",
        "batch_size = 5 # number of batches to run\n",
        "\n",
        "# Model, optimizer\n",
        "pong_model = create_pong_model()\n",
        "optimizer = tf.keras.optimizers.Adam(learning_rate)\n",
        "iteration = 0 # counter for training steps\n",
        "\n",
        "# Plotting\n",
        "smoothed_reward = mdl.util.LossHistory(smoothing_factor=0.9)\n",
        "smoothed_reward.append(0) # start the reward at zero for baseline comparison\n",
        "plotter = mdl.util.PeriodicPlotter(sec=15, xlabel='Iterations', ylabel='Win Percentage (%)')\n",
        "\n",
        "# Batches and environment\n",
        "# To parallelize batches, we need to make multiple copies of the environment.\n",
        "envs = [create_pong_env() for _ in range(batch_size)] # For parallelization"
      ],
      "execution_count": null,
      "outputs": []
    },
    {
      "cell_type": "code",
      "metadata": {
        "id": "xCwyQQrPnkZG"
      },
      "source": [
        "### Training Pong ###\n",
        "# You can run this cell and stop it anytime in the middle of training to save \n",
        "#   a progress video (see next codeblock). To continue training, simply run this \n",
        "#   cell again, your model will pick up right where it left off. To reset training,\n",
        "#   you need to run the cell above. \n",
        "\n",
        "games_to_win_episode = 21 # this is set by OpenAI gym and cannot be changed.\n",
        "\n",
        "# Main training loop\n",
        "while iteration < MAX_ITERS:\n",
        "\n",
        "  plotter.plot(smoothed_reward.get())\n",
        "\n",
        "  tic = time.time()\n",
        "  # RL agent algorithm. By default, uses serial batch processing.\n",
        "  # memories = collect_rollout(batch_size, env, pong_model, choose_action)\n",
        "\n",
        "  # Parallelized version. Uncomment line below (and comment out line above) to parallelize\n",
        "  memories = mdl.lab3.parallelized_collect_rollout(batch_size, envs, pong_model, choose_action)\n",
        "  print(time.time()-tic)\n",
        "\n",
        "  # Aggregate memories from multiple batches\n",
        "  batch_memory = aggregate_memories(memories)\n",
        "\n",
        "  # Track performance based on win percentage (calculated from rewards)\n",
        "  total_wins = sum(np.array(batch_memory.rewards) == 1)\n",
        "  total_games = sum(np.abs(np.array(batch_memory.rewards)))\n",
        "  win_rate = total_wins / total_games\n",
        "  smoothed_reward.append(100 * win_rate)\n",
        "  \n",
        "  # Training!\n",
        "  train_step(\n",
        "      pong_model,\n",
        "      optimizer,\n",
        "      observations = np.stack(batch_memory.observations, 0),\n",
        "      actions = np.array(batch_memory.actions),\n",
        "      discounted_rewards = discount_rewards(batch_memory.rewards)\n",
        "  )\n",
        "\n",
        "  # Save a video of progress -- this can be played back later\n",
        "  if iteration % 100 == 0:\n",
        "    mdl.lab3.save_video_of_model(pong_model, \"Pong-v0\", \n",
        "                                                suffix=\"_\"+str(iteration))\n",
        "    \n",
        "  iteration += 1 # Mark next episode"
      ],
      "execution_count": null,
      "outputs": []
    },
    {
      "cell_type": "markdown",
      "metadata": {
        "id": "8LiEY5Y_ts-Z"
      },
      "source": [
        "Finally we can put our trained agent to the test! It will play in a newly instantiated Pong environment against the \"computer\", a base AI system for Pong. Your agent plays as the green paddle. Let's watch the match instant replay!"
      ]
    },
    {
      "cell_type": "code",
      "metadata": {
        "id": "TvHXbkL0tR6M"
      },
      "source": [
        "latest_pong = mdl.lab3.save_video_of_model(\n",
        "    pong_model, \"Pong-v0\", suffix=\"_latest\")\n",
        "mdl.lab3.play_video(latest_pong, width=400)"
      ],
      "execution_count": null,
      "outputs": []
    },
    {
      "cell_type": "markdown",
      "metadata": {
        "id": "TIlwIgBP3Js6"
      },
      "source": [
        "## 3.10 Conclusion and submission information\n",
        "\n",
        "That's it! Congratulations on training two RL agents and putting them to the test! We encourage you to consider the following:\n",
        "\n",
        "*   How does the agent perform?\n",
        "*   Could you train it for shorter amounts of time  and still perform well?\n",
        "* What are some limitations of the current representation i.e., difference of current and previous frames? How is this reflected in the agent's behavior? What could be done to generate an improved representation?\n",
        "* How does the complexity of Pong relative to CartPole alter the rate at which the agent learns and its performance? \n",
        "* What are some things you could change about the agent or the learning process to potentially improve performance?\n",
        "\n",
        "Try to optimize your **Pong** model and algorithm to achieve improved performance.  **MIT students and affiliates will be eligible for prizes during the IAP offering.** To enter the competition, MIT students and affiliates should upload the following to the course Canvas:\n",
        "\n",
        "* Jupyter notebook with the code you used to generate your results, **with the Pong training executed**;\n",
        "* saved video of your Pong agent competing;\n",
        "* a description and/or diagram of the architecture, settings, and hyperparameters you used to generate your result -- if there are any additional or interesting modifications you made to the template code, please include these in your description;\n",
        "* discussion of why these modifications helped improve performance.\n",
        "\n",
        "Good luck!"
      ]
    }
  ]
}