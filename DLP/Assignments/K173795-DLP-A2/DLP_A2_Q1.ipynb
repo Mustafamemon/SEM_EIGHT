{
  "nbformat": 4,
  "nbformat_minor": 0,
  "metadata": {
    "colab": {
      "name": "DLP-A2-Q1.ipynb",
      "provenance": []
    },
    "kernelspec": {
      "name": "python3",
      "display_name": "Python 3"
    }
  },
  "cells": [
    {
      "cell_type": "markdown",
      "metadata": {
        "id": "JMgzME789tGW"
      },
      "source": [
        "**IMPORTS**"
      ]
    },
    {
      "cell_type": "code",
      "metadata": {
        "id": "HaL2jqID0x0i"
      },
      "source": [
        "import tensorflow as tf\r\n",
        "from sklearn.model_selection import train_test_split\r\n",
        "import pandas as pd\r\n",
        "import os"
      ],
      "execution_count": 6,
      "outputs": []
    },
    {
      "cell_type": "markdown",
      "metadata": {
        "id": "Dnuw3Lhs9yRI"
      },
      "source": [
        "**DATASET PATH**"
      ]
    },
    {
      "cell_type": "code",
      "metadata": {
        "id": "FnnDCwzNW-21"
      },
      "source": [
        "DIR_PATH = os.path.abspath(\"\")\r\n",
        "DATASET_PATH = os.path.join(DIR_PATH,\"student_data.csv\")"
      ],
      "execution_count": 7,
      "outputs": []
    },
    {
      "cell_type": "markdown",
      "metadata": {
        "id": "ziJy8-o393x_"
      },
      "source": [
        "**Assign X to features and y to label and split data set into train test 77:33**"
      ]
    },
    {
      "cell_type": "code",
      "metadata": {
        "id": "L9KqlIGZXwKM"
      },
      "source": [
        "df = pd.read_csv(DATASET_PATH)\r\n",
        "y  = df[['admit']] \r\n",
        "X  = df.drop(['admit'],axis=1)"
      ],
      "execution_count": 9,
      "outputs": []
    },
    {
      "cell_type": "code",
      "metadata": {
        "colab": {
          "base_uri": "https://localhost:8080/"
        },
        "id": "JlCbvipGbT8j",
        "outputId": "89f615cf-874c-418f-be55-13dc88b4d8f5"
      },
      "source": [
        "X_train, X_test, y_train, y_test = train_test_split(X, y, test_size=0.33, random_state=42)\r\n",
        "\r\n",
        "print(X_train.shape)\r\n",
        "print(X_test.shape)\r\n",
        "print(y_train.shape)\r\n",
        "print(y_test.shape)"
      ],
      "execution_count": 10,
      "outputs": [
        {
          "output_type": "stream",
          "text": [
            "(268, 3)\n",
            "(132, 3)\n",
            "(268, 1)\n",
            "(132, 1)\n"
          ],
          "name": "stdout"
        }
      ]
    },
    {
      "cell_type": "code",
      "metadata": {
        "id": "gT2dy8R4YLLK"
      },
      "source": [
        "model = tf.keras.models.Sequential([\r\n",
        "  tf.keras.layers.Dense(2, activation='relu',input_dim=3)\r\n",
        "])"
      ],
      "execution_count": 11,
      "outputs": []
    },
    {
      "cell_type": "code",
      "metadata": {
        "colab": {
          "base_uri": "https://localhost:8080/"
        },
        "id": "6ff8J2YydRci",
        "outputId": "19c4c7c5-0fad-4523-eff6-92f75d09391f"
      },
      "source": [
        "model.compile(optimizer='sgd', loss='mse',metrics=['accuracy'])\r\n",
        "# This builds the model for the first time:\r\n",
        "model.fit(X_train, y_train, epochs=20,batch_size=20)"
      ],
      "execution_count": 12,
      "outputs": [
        {
          "output_type": "stream",
          "text": [
            "Epoch 1/20\n",
            "14/14 [==============================] - 1s 1ms/step - loss: 0.2957 - accuracy: 0.7043\n",
            "Epoch 2/20\n",
            "14/14 [==============================] - 0s 1ms/step - loss: 0.3272 - accuracy: 0.6728\n",
            "Epoch 3/20\n",
            "14/14 [==============================] - 0s 1ms/step - loss: 0.3154 - accuracy: 0.6846\n",
            "Epoch 4/20\n",
            "14/14 [==============================] - 0s 2ms/step - loss: 0.3574 - accuracy: 0.6426\n",
            "Epoch 5/20\n",
            "14/14 [==============================] - 0s 2ms/step - loss: 0.3073 - accuracy: 0.6927\n",
            "Epoch 6/20\n",
            "14/14 [==============================] - 0s 1ms/step - loss: 0.3214 - accuracy: 0.6786\n",
            "Epoch 7/20\n",
            "14/14 [==============================] - 0s 1ms/step - loss: 0.3081 - accuracy: 0.6919\n",
            "Epoch 8/20\n",
            "14/14 [==============================] - 0s 1ms/step - loss: 0.2983 - accuracy: 0.7017\n",
            "Epoch 9/20\n",
            "14/14 [==============================] - 0s 2ms/step - loss: 0.2854 - accuracy: 0.7146\n",
            "Epoch 10/20\n",
            "14/14 [==============================] - 0s 2ms/step - loss: 0.3225 - accuracy: 0.6775\n",
            "Epoch 11/20\n",
            "14/14 [==============================] - 0s 1ms/step - loss: 0.3147 - accuracy: 0.6853\n",
            "Epoch 12/20\n",
            "14/14 [==============================] - 0s 2ms/step - loss: 0.2795 - accuracy: 0.7205\n",
            "Epoch 13/20\n",
            "14/14 [==============================] - 0s 1ms/step - loss: 0.3350 - accuracy: 0.6650\n",
            "Epoch 14/20\n",
            "14/14 [==============================] - 0s 1ms/step - loss: 0.3119 - accuracy: 0.6881\n",
            "Epoch 15/20\n",
            "14/14 [==============================] - 0s 1ms/step - loss: 0.3099 - accuracy: 0.6901\n",
            "Epoch 16/20\n",
            "14/14 [==============================] - 0s 2ms/step - loss: 0.3035 - accuracy: 0.6965\n",
            "Epoch 17/20\n",
            "14/14 [==============================] - 0s 2ms/step - loss: 0.3216 - accuracy: 0.6784\n",
            "Epoch 18/20\n",
            "14/14 [==============================] - 0s 1ms/step - loss: 0.3448 - accuracy: 0.6552\n",
            "Epoch 19/20\n",
            "14/14 [==============================] - 0s 2ms/step - loss: 0.3272 - accuracy: 0.6728\n",
            "Epoch 20/20\n",
            "14/14 [==============================] - 0s 2ms/step - loss: 0.3267 - accuracy: 0.6733\n"
          ],
          "name": "stdout"
        },
        {
          "output_type": "execute_result",
          "data": {
            "text/plain": [
              "<tensorflow.python.keras.callbacks.History at 0x7fbcf6951c90>"
            ]
          },
          "metadata": {
            "tags": []
          },
          "execution_count": 12
        }
      ]
    },
    {
      "cell_type": "code",
      "metadata": {
        "colab": {
          "base_uri": "https://localhost:8080/"
        },
        "id": "44uRL0WUY6ET",
        "outputId": "653954ee-9bdf-413f-ab58-5a9cede053fd"
      },
      "source": [
        "print(\"Train evaluation: \",model.evaluate(X_train,y_train))\r\n",
        "print(\"Test evaluation: \",model.evaluate(X_test,y_test))"
      ],
      "execution_count": 13,
      "outputs": [
        {
          "output_type": "stream",
          "text": [
            "9/9 [==============================] - 0s 1ms/step - loss: 0.3172 - accuracy: 0.6828\n",
            "Train evaluation:  [0.31716418266296387, 0.6828358173370361]\n",
            "5/5 [==============================] - 0s 3ms/step - loss: 0.3182 - accuracy: 0.6818\n",
            "Test evaluation:  [0.3181818127632141, 0.6818181872367859]\n"
          ],
          "name": "stdout"
        }
      ]
    },
    {
      "cell_type": "code",
      "metadata": {
        "id": "b4D4onSoasYt"
      },
      "source": [
        ""
      ],
      "execution_count": null,
      "outputs": []
    }
  ]
}