{
  "nbformat": 4,
  "nbformat_minor": 0,
  "metadata": {
    "colab": {
      "name": "DLP-A2-Q2.ipynb",
      "provenance": []
    },
    "kernelspec": {
      "name": "python3",
      "display_name": "Python 3"
    }
  },
  "cells": [
    {
      "cell_type": "markdown",
      "metadata": {
        "id": "Ff8nJq418kqI"
      },
      "source": [
        "**IMPORTS**"
      ]
    },
    {
      "cell_type": "code",
      "metadata": {
        "id": "5mP4ucETFWm5"
      },
      "source": [
        "from tensorflow.keras import layers\r\n",
        "from tensorflow.keras import models\r\n",
        "from tensorflow.keras import optimizers\r\n",
        "from sklearn.model_selection import train_test_split\r\n",
        "import numpy as np\r\n",
        "import os\r\n",
        "import h5py"
      ],
      "execution_count": 20,
      "outputs": []
    },
    {
      "cell_type": "markdown",
      "metadata": {
        "id": "KlfbVYMa8jPO"
      },
      "source": [
        "**DATASET PATH**"
      ]
    },
    {
      "cell_type": "code",
      "metadata": {
        "id": "QLAJjCBnG6Mj"
      },
      "source": [
        "DIR_PATH = os.path.abspath(\"\")\r\n",
        "DATASET_TEST_PATH = os.path.join(DIR_PATH,\"test_catvnoncat.h5\")\r\n",
        "DATASET_TRAIN_PATH = os.path.join(DIR_PATH,\"train_catvnoncat.h5\")"
      ],
      "execution_count": 2,
      "outputs": []
    },
    {
      "cell_type": "markdown",
      "metadata": {
        "id": "E7xYedUs8u4E"
      },
      "source": [
        "**Read Dataset  using h5py**"
      ]
    },
    {
      "cell_type": "code",
      "metadata": {
        "colab": {
          "base_uri": "https://localhost:8080/"
        },
        "id": "Tw46zSeFHT5i",
        "outputId": "4e3075a6-a6a6-48c6-b4a1-8c9e3842015d"
      },
      "source": [
        "test_data = h5py.File(DATASET_TEST_PATH, 'r')\r\n",
        "train_data = h5py.File(DATASET_TRAIN_PATH, 'r')\r\n",
        "\r\n",
        "print(list(test_data.keys()))\r\n",
        "\r\n",
        "print(list(train_data.keys()))\r\n"
      ],
      "execution_count": 5,
      "outputs": [
        {
          "output_type": "stream",
          "text": [
            "['list_classes', 'test_set_x', 'test_set_y']\n",
            "['list_classes', 'train_set_x', 'train_set_y']\n"
          ],
          "name": "stdout"
        }
      ]
    },
    {
      "cell_type": "markdown",
      "metadata": {
        "id": "JwkCg4yg84c8"
      },
      "source": [
        "**Split Train Dataset into validation and trian 10:90**"
      ]
    },
    {
      "cell_type": "code",
      "metadata": {
        "id": "xQIu4gCWIDGT"
      },
      "source": [
        "X = np.array(train_data['train_set_x']) \r\n",
        "y = np.array(train_data['train_set_y'])\r\n",
        "\r\n",
        "X_train , X_val , y_train, y_val = train_test_split(X,y,test_size = 0.1)\r\n",
        "\r\n",
        "X_test  = np.array(test_data['test_set_x'])\r\n",
        "y_test  = np.array(test_data['test_set_y'])"
      ],
      "execution_count": 47,
      "outputs": []
    },
    {
      "cell_type": "code",
      "metadata": {
        "colab": {
          "base_uri": "https://localhost:8080/"
        },
        "id": "zJdZZllhMhT1",
        "outputId": "2fd97660-ac54-4589-c771-25bbb0868942"
      },
      "source": [
        "print(X_train.shape)\r\n",
        "print(y_train.shape)\r\n",
        "\r\n",
        "print(X_val.shape)\r\n",
        "print(y_val.shape)\r\n",
        "\r\n",
        "print(X_test.shape)\r\n",
        "print(y_test.shape)"
      ],
      "execution_count": 48,
      "outputs": [
        {
          "output_type": "stream",
          "text": [
            "(188, 64, 64, 3)\n",
            "(188,)\n",
            "(21, 64, 64, 3)\n",
            "(21,)\n",
            "(50, 64, 64, 3)\n",
            "(50,)\n"
          ],
          "name": "stdout"
        }
      ]
    },
    {
      "cell_type": "markdown",
      "metadata": {
        "id": "rrFRkuZu9KX7"
      },
      "source": [
        "**Assignment Part A Single Layer**"
      ]
    },
    {
      "cell_type": "code",
      "metadata": {
        "id": "LhEO9Z8yLNf8"
      },
      "source": [
        "model = models.Sequential()\r\n",
        "model.add(layers.Dense(32,activation='relu',input_shape=(64,64,3)))\r\n",
        "model.add(layers.Flatten())\r\n",
        "model.add(layers.Dense(64,activation='relu'))\r\n",
        "model.add(layers.Dense(1,activation='sigmoid'))\r\n"
      ],
      "execution_count": 172,
      "outputs": []
    },
    {
      "cell_type": "code",
      "metadata": {
        "colab": {
          "base_uri": "https://localhost:8080/"
        },
        "id": "4DWP-RV-Ltkq",
        "outputId": "a3cfa6ec-ea1a-4cfc-dda6-070ba5c96c5f"
      },
      "source": [
        "model.summary()"
      ],
      "execution_count": 173,
      "outputs": [
        {
          "output_type": "stream",
          "text": [
            "Model: \"sequential_32\"\n",
            "_________________________________________________________________\n",
            "Layer (type)                 Output Shape              Param #   \n",
            "=================================================================\n",
            "dense_66 (Dense)             (None, 64, 64, 32)        128       \n",
            "_________________________________________________________________\n",
            "flatten_22 (Flatten)         (None, 131072)            0         \n",
            "_________________________________________________________________\n",
            "dense_67 (Dense)             (None, 64)                8388672   \n",
            "_________________________________________________________________\n",
            "dense_68 (Dense)             (None, 1)                 65        \n",
            "=================================================================\n",
            "Total params: 8,388,865\n",
            "Trainable params: 8,388,865\n",
            "Non-trainable params: 0\n",
            "_________________________________________________________________\n"
          ],
          "name": "stdout"
        }
      ]
    },
    {
      "cell_type": "code",
      "metadata": {
        "id": "ZPDVRDD1NCsH"
      },
      "source": [
        "model.compile(loss='binary_crossentropy',optimizer='adagrad',metrics=['accuracy'])"
      ],
      "execution_count": 175,
      "outputs": []
    },
    {
      "cell_type": "code",
      "metadata": {
        "colab": {
          "base_uri": "https://localhost:8080/"
        },
        "id": "eqs2MOmENFRW",
        "outputId": "7c134560-0104-4a58-b346-4db4bc3b1ecb"
      },
      "source": [
        "model.fit(X_train, y_train,validation_data = (X_val, y_val),epochs=30, batch_size=30)"
      ],
      "execution_count": 176,
      "outputs": [
        {
          "output_type": "stream",
          "text": [
            "Epoch 1/30\n",
            "7/7 [==============================] - 1s 149ms/step - loss: 2186.4271 - accuracy: 0.5656 - val_loss: 167.9595 - val_accuracy: 0.6190\n",
            "Epoch 2/30\n",
            "7/7 [==============================] - 1s 107ms/step - loss: 117.9894 - accuracy: 0.6271 - val_loss: 27.8089 - val_accuracy: 0.4286\n",
            "Epoch 3/30\n",
            "7/7 [==============================] - 1s 104ms/step - loss: 53.5617 - accuracy: 0.5417 - val_loss: 92.9184 - val_accuracy: 0.6190\n",
            "Epoch 4/30\n",
            "7/7 [==============================] - 1s 102ms/step - loss: 46.4135 - accuracy: 0.5952 - val_loss: 13.7455 - val_accuracy: 0.5714\n",
            "Epoch 5/30\n",
            "7/7 [==============================] - 1s 105ms/step - loss: 12.5387 - accuracy: 0.7314 - val_loss: 22.1683 - val_accuracy: 0.5714\n",
            "Epoch 6/30\n",
            "7/7 [==============================] - 1s 103ms/step - loss: 33.3808 - accuracy: 0.5732 - val_loss: 17.7693 - val_accuracy: 0.6190\n",
            "Epoch 7/30\n",
            "7/7 [==============================] - 1s 101ms/step - loss: 11.9959 - accuracy: 0.7536 - val_loss: 35.1023 - val_accuracy: 0.5714\n",
            "Epoch 8/30\n",
            "7/7 [==============================] - 1s 103ms/step - loss: 17.1127 - accuracy: 0.6831 - val_loss: 19.4704 - val_accuracy: 0.5714\n",
            "Epoch 9/30\n",
            "7/7 [==============================] - 1s 102ms/step - loss: 8.1062 - accuracy: 0.7549 - val_loss: 46.8472 - val_accuracy: 0.5714\n",
            "Epoch 10/30\n",
            "7/7 [==============================] - 1s 106ms/step - loss: 14.2397 - accuracy: 0.7238 - val_loss: 27.5254 - val_accuracy: 0.6190\n",
            "Epoch 11/30\n",
            "7/7 [==============================] - 1s 102ms/step - loss: 7.0748 - accuracy: 0.7563 - val_loss: 21.4944 - val_accuracy: 0.5238\n",
            "Epoch 12/30\n",
            "7/7 [==============================] - 1s 107ms/step - loss: 10.6235 - accuracy: 0.6999 - val_loss: 63.6340 - val_accuracy: 0.6190\n",
            "Epoch 13/30\n",
            "7/7 [==============================] - 1s 105ms/step - loss: 18.5025 - accuracy: 0.7961 - val_loss: 59.2091 - val_accuracy: 0.4286\n",
            "Epoch 14/30\n",
            "7/7 [==============================] - 1s 103ms/step - loss: 32.8346 - accuracy: 0.5059 - val_loss: 36.1168 - val_accuracy: 0.6190\n",
            "Epoch 15/30\n",
            "7/7 [==============================] - 1s 104ms/step - loss: 7.2223 - accuracy: 0.8172 - val_loss: 41.0616 - val_accuracy: 0.6190\n",
            "Epoch 16/30\n",
            "7/7 [==============================] - 1s 105ms/step - loss: 12.1565 - accuracy: 0.7390 - val_loss: 75.8709 - val_accuracy: 0.6190\n",
            "Epoch 17/30\n",
            "7/7 [==============================] - 1s 105ms/step - loss: 22.7388 - accuracy: 0.7711 - val_loss: 13.8537 - val_accuracy: 0.4286\n",
            "Epoch 18/30\n",
            "7/7 [==============================] - 1s 104ms/step - loss: 4.7804 - accuracy: 0.8152 - val_loss: 13.8326 - val_accuracy: 0.4762\n",
            "Epoch 19/30\n",
            "7/7 [==============================] - 1s 105ms/step - loss: 4.2759 - accuracy: 0.8001 - val_loss: 14.8706 - val_accuracy: 0.5714\n",
            "Epoch 20/30\n",
            "7/7 [==============================] - 1s 107ms/step - loss: 3.6864 - accuracy: 0.8198 - val_loss: 49.9188 - val_accuracy: 0.6190\n",
            "Epoch 21/30\n",
            "7/7 [==============================] - 1s 106ms/step - loss: 13.7245 - accuracy: 0.7383 - val_loss: 19.1845 - val_accuracy: 0.6667\n",
            "Epoch 22/30\n",
            "7/7 [==============================] - 1s 110ms/step - loss: 2.2318 - accuracy: 0.8407 - val_loss: 12.6339 - val_accuracy: 0.4762\n",
            "Epoch 23/30\n",
            "7/7 [==============================] - 1s 109ms/step - loss: 1.6908 - accuracy: 0.9146 - val_loss: 18.4553 - val_accuracy: 0.6190\n",
            "Epoch 24/30\n",
            "7/7 [==============================] - 1s 105ms/step - loss: 2.7256 - accuracy: 0.8674 - val_loss: 12.5441 - val_accuracy: 0.5714\n",
            "Epoch 25/30\n",
            "7/7 [==============================] - 1s 107ms/step - loss: 2.7574 - accuracy: 0.8492 - val_loss: 19.0115 - val_accuracy: 0.6190\n",
            "Epoch 26/30\n",
            "7/7 [==============================] - 1s 102ms/step - loss: 2.0652 - accuracy: 0.8424 - val_loss: 12.6469 - val_accuracy: 0.5714\n",
            "Epoch 27/30\n",
            "7/7 [==============================] - 1s 104ms/step - loss: 2.8178 - accuracy: 0.8164 - val_loss: 11.8631 - val_accuracy: 0.5714\n",
            "Epoch 28/30\n",
            "7/7 [==============================] - 1s 102ms/step - loss: 3.9904 - accuracy: 0.8164 - val_loss: 52.6792 - val_accuracy: 0.6190\n",
            "Epoch 29/30\n",
            "7/7 [==============================] - 1s 104ms/step - loss: 13.8570 - accuracy: 0.7925 - val_loss: 10.3119 - val_accuracy: 0.5238\n",
            "Epoch 30/30\n",
            "7/7 [==============================] - 1s 105ms/step - loss: 1.2526 - accuracy: 0.9009 - val_loss: 12.9177 - val_accuracy: 0.6667\n"
          ],
          "name": "stdout"
        },
        {
          "output_type": "execute_result",
          "data": {
            "text/plain": [
              "<tensorflow.python.keras.callbacks.History at 0x7f952894c8d0>"
            ]
          },
          "metadata": {
            "tags": []
          },
          "execution_count": 176
        }
      ]
    },
    {
      "cell_type": "code",
      "metadata": {
        "colab": {
          "base_uri": "https://localhost:8080/"
        },
        "id": "g3HJ-EtRYMv7",
        "outputId": "7a70f4c3-9723-4e26-a037-b84eddb355fb"
      },
      "source": [
        "print(\"Train evaluation: \",model.evaluate(X_train,y_train))\r\n",
        "print(\"Validation evaluation: \",model.evaluate(X_val,y_val))\r\n",
        "print(\"Test evaluation: \",model.evaluate(X_test,y_test))"
      ],
      "execution_count": 177,
      "outputs": [
        {
          "output_type": "stream",
          "text": [
            "6/6 [==============================] - 0s 28ms/step - loss: 0.8598 - accuracy: 0.9096\n",
            "Train evaluation:  [0.859833836555481, 0.9095744490623474]\n",
            "1/1 [==============================] - 0s 35ms/step - loss: 12.9177 - accuracy: 0.6667\n",
            "Validation evaluation:  [12.917746543884277, 0.6666666865348816]\n",
            "2/2 [==============================] - 0s 20ms/step - loss: 11.4650 - accuracy: 0.6200\n",
            "Test evaluation:  [11.465038299560547, 0.6200000047683716]\n"
          ],
          "name": "stdout"
        }
      ]
    },
    {
      "cell_type": "markdown",
      "metadata": {
        "id": "NS3Yc_uv9RUc"
      },
      "source": [
        "**Assignment Part B with 2 Two hidden Layer**"
      ]
    },
    {
      "cell_type": "code",
      "metadata": {
        "id": "wGDkZdY5mhsn"
      },
      "source": [
        "model_1 = models.Sequential()\r\n",
        "model_1.add(layers.Dense(32,activation='relu',input_shape=(64,64,3)))\r\n",
        "model_1.add(layers.Flatten())\r\n",
        "model_1.add(layers.Dense(64,activation='relu'))\r\n",
        "model_1.add(layers.Dense(128,activation='relu'))\r\n",
        "model_1.add(layers.Dense(1,activation='sigmoid'))"
      ],
      "execution_count": 178,
      "outputs": []
    },
    {
      "cell_type": "code",
      "metadata": {
        "colab": {
          "base_uri": "https://localhost:8080/"
        },
        "id": "3Y3s5u3MmkRO",
        "outputId": "44afb3c7-283a-419b-a3c9-9ddf71f15516"
      },
      "source": [
        "model_1.summary()"
      ],
      "execution_count": 179,
      "outputs": [
        {
          "output_type": "stream",
          "text": [
            "Model: \"sequential_33\"\n",
            "_________________________________________________________________\n",
            "Layer (type)                 Output Shape              Param #   \n",
            "=================================================================\n",
            "dense_69 (Dense)             (None, 64, 64, 32)        128       \n",
            "_________________________________________________________________\n",
            "flatten_23 (Flatten)         (None, 131072)            0         \n",
            "_________________________________________________________________\n",
            "dense_70 (Dense)             (None, 64)                8388672   \n",
            "_________________________________________________________________\n",
            "dense_71 (Dense)             (None, 128)               8320      \n",
            "_________________________________________________________________\n",
            "dense_72 (Dense)             (None, 1)                 129       \n",
            "=================================================================\n",
            "Total params: 8,397,249\n",
            "Trainable params: 8,397,249\n",
            "Non-trainable params: 0\n",
            "_________________________________________________________________\n"
          ],
          "name": "stdout"
        }
      ]
    },
    {
      "cell_type": "code",
      "metadata": {
        "id": "X4_6SN_onIh3"
      },
      "source": [
        "model_1.compile(loss='binary_crossentropy',optimizer='adagrad',metrics=['accuracy'])"
      ],
      "execution_count": 180,
      "outputs": []
    },
    {
      "cell_type": "code",
      "metadata": {
        "colab": {
          "base_uri": "https://localhost:8080/"
        },
        "id": "L9lXTq0sm-Mk",
        "outputId": "a46e3053-d4a0-4c32-fe35-a50a184114b6"
      },
      "source": [
        "model_1.fit(X_train, y_train,validation_data = (X_val, y_val),epochs=30, batch_size=30)"
      ],
      "execution_count": 181,
      "outputs": [
        {
          "output_type": "stream",
          "text": [
            "Epoch 1/30\n",
            "7/7 [==============================] - 1s 131ms/step - loss: 341.1240 - accuracy: 0.5168 - val_loss: 9.2038 - val_accuracy: 0.6667\n",
            "Epoch 2/30\n",
            "7/7 [==============================] - 1s 103ms/step - loss: 75.5415 - accuracy: 0.5408 - val_loss: 107.1201 - val_accuracy: 0.6190\n",
            "Epoch 3/30\n",
            "7/7 [==============================] - 1s 105ms/step - loss: 56.4543 - accuracy: 0.6333 - val_loss: 25.9271 - val_accuracy: 0.6190\n",
            "Epoch 4/30\n",
            "7/7 [==============================] - 1s 102ms/step - loss: 33.3464 - accuracy: 0.5988 - val_loss: 57.2455 - val_accuracy: 0.6190\n",
            "Epoch 5/30\n",
            "7/7 [==============================] - 1s 103ms/step - loss: 23.5331 - accuracy: 0.7155 - val_loss: 3.4826 - val_accuracy: 0.6190\n",
            "Epoch 6/30\n",
            "7/7 [==============================] - 1s 104ms/step - loss: 11.1792 - accuracy: 0.6422 - val_loss: 10.3535 - val_accuracy: 0.5714\n",
            "Epoch 7/30\n",
            "7/7 [==============================] - 1s 104ms/step - loss: 20.0209 - accuracy: 0.5580 - val_loss: 27.8181 - val_accuracy: 0.4286\n",
            "Epoch 8/30\n",
            "7/7 [==============================] - 1s 102ms/step - loss: 16.3789 - accuracy: 0.5762 - val_loss: 17.4770 - val_accuracy: 0.4762\n",
            "Epoch 9/30\n",
            "7/7 [==============================] - 1s 103ms/step - loss: 15.5491 - accuracy: 0.5749 - val_loss: 19.5715 - val_accuracy: 0.4762\n",
            "Epoch 10/30\n",
            "7/7 [==============================] - 1s 106ms/step - loss: 17.9797 - accuracy: 0.5244 - val_loss: 14.5044 - val_accuracy: 0.5238\n",
            "Epoch 11/30\n",
            "7/7 [==============================] - 1s 102ms/step - loss: 7.1626 - accuracy: 0.7085 - val_loss: 12.0927 - val_accuracy: 0.5714\n",
            "Epoch 12/30\n",
            "7/7 [==============================] - 1s 103ms/step - loss: 9.4923 - accuracy: 0.6241 - val_loss: 4.0772 - val_accuracy: 0.6190\n",
            "Epoch 13/30\n",
            "7/7 [==============================] - 1s 104ms/step - loss: 1.4875 - accuracy: 0.8156 - val_loss: 5.0220 - val_accuracy: 0.7143\n",
            "Epoch 14/30\n",
            "7/7 [==============================] - 1s 103ms/step - loss: 8.4883 - accuracy: 0.6861 - val_loss: 7.8926 - val_accuracy: 0.5714\n",
            "Epoch 15/30\n",
            "7/7 [==============================] - 1s 105ms/step - loss: 4.4043 - accuracy: 0.7447 - val_loss: 11.9046 - val_accuracy: 0.5714\n",
            "Epoch 16/30\n",
            "7/7 [==============================] - 1s 101ms/step - loss: 3.6786 - accuracy: 0.7597 - val_loss: 12.9045 - val_accuracy: 0.5714\n",
            "Epoch 17/30\n",
            "7/7 [==============================] - 1s 104ms/step - loss: 7.9039 - accuracy: 0.6293 - val_loss: 9.1873 - val_accuracy: 0.5714\n",
            "Epoch 18/30\n",
            "7/7 [==============================] - 1s 102ms/step - loss: 5.1898 - accuracy: 0.7305 - val_loss: 4.7757 - val_accuracy: 0.6667\n",
            "Epoch 19/30\n",
            "7/7 [==============================] - 1s 102ms/step - loss: 4.6497 - accuracy: 0.7148 - val_loss: 25.3681 - val_accuracy: 0.4286\n",
            "Epoch 20/30\n",
            "7/7 [==============================] - 1s 101ms/step - loss: 13.9011 - accuracy: 0.5980 - val_loss: 10.2754 - val_accuracy: 0.5714\n",
            "Epoch 21/30\n",
            "7/7 [==============================] - 1s 101ms/step - loss: 6.6236 - accuracy: 0.6304 - val_loss: 19.4879 - val_accuracy: 0.5714\n",
            "Epoch 22/30\n",
            "7/7 [==============================] - 1s 101ms/step - loss: 5.5486 - accuracy: 0.7712 - val_loss: 15.0522 - val_accuracy: 0.5714\n",
            "Epoch 23/30\n",
            "7/7 [==============================] - 1s 102ms/step - loss: 5.1051 - accuracy: 0.7623 - val_loss: 10.3880 - val_accuracy: 0.5714\n",
            "Epoch 24/30\n",
            "7/7 [==============================] - 1s 100ms/step - loss: 4.0799 - accuracy: 0.7335 - val_loss: 4.8237 - val_accuracy: 0.7143\n",
            "Epoch 25/30\n",
            "7/7 [==============================] - 1s 101ms/step - loss: 1.2799 - accuracy: 0.8113 - val_loss: 8.3198 - val_accuracy: 0.5714\n",
            "Epoch 26/30\n",
            "7/7 [==============================] - 1s 105ms/step - loss: 3.6742 - accuracy: 0.7672 - val_loss: 9.7674 - val_accuracy: 0.5714\n",
            "Epoch 27/30\n",
            "7/7 [==============================] - 1s 101ms/step - loss: 9.8795 - accuracy: 0.5575 - val_loss: 3.2052 - val_accuracy: 0.5238\n",
            "Epoch 28/30\n",
            "7/7 [==============================] - 1s 107ms/step - loss: 0.8795 - accuracy: 0.8864 - val_loss: 3.3954 - val_accuracy: 0.6190\n",
            "Epoch 29/30\n",
            "7/7 [==============================] - 1s 106ms/step - loss: 1.1595 - accuracy: 0.8421 - val_loss: 4.2479 - val_accuracy: 0.7143\n",
            "Epoch 30/30\n",
            "7/7 [==============================] - 1s 103ms/step - loss: 2.7263 - accuracy: 0.7602 - val_loss: 6.3439 - val_accuracy: 0.5714\n"
          ],
          "name": "stdout"
        },
        {
          "output_type": "execute_result",
          "data": {
            "text/plain": [
              "<tensorflow.python.keras.callbacks.History at 0x7f953dd8df50>"
            ]
          },
          "metadata": {
            "tags": []
          },
          "execution_count": 181
        }
      ]
    },
    {
      "cell_type": "code",
      "metadata": {
        "colab": {
          "base_uri": "https://localhost:8080/"
        },
        "id": "JNa32pisnBUs",
        "outputId": "daeca594-a0c1-4c7b-a0d8-61368890dec3"
      },
      "source": [
        "print(\"Train evaluation: \",model_1.evaluate(X_train,y_train))\r\n",
        "print(\"Validation evaluation: \",model_1.evaluate(X_val,y_val))\r\n",
        "print(\"Test evaluation: \",model_1.evaluate(X_test,y_test))"
      ],
      "execution_count": 182,
      "outputs": [
        {
          "output_type": "stream",
          "text": [
            "6/6 [==============================] - 0s 25ms/step - loss: 3.9336 - accuracy: 0.7074\n",
            "Train evaluation:  [3.9336063861846924, 0.707446813583374]\n",
            "1/1 [==============================] - 0s 31ms/step - loss: 6.3439 - accuracy: 0.5714\n",
            "Validation evaluation:  [6.343857765197754, 0.5714285969734192]\n",
            "2/2 [==============================] - 0s 20ms/step - loss: 2.6967 - accuracy: 0.7800\n",
            "Test evaluation:  [2.69671630859375, 0.7799999713897705]\n"
          ],
          "name": "stdout"
        }
      ]
    },
    {
      "cell_type": "markdown",
      "metadata": {
        "id": "Xx0GxCjI9W5v"
      },
      "source": [
        "**Conclude : With single layer model overfitted because gives hight accuracy in train but in test it too less**\r\n"
      ]
    }
  ]
}